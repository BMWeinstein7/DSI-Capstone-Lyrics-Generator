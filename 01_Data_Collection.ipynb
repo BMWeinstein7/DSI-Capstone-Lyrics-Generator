{
 "cells": [
  {
   "cell_type": "markdown",
   "metadata": {},
   "source": [
    "# Data Collection\n",
    "This notebook has the code to scrape all of the artists used for this project and their lyrics.\n",
    "\n",
    "Sources\n",
    "- Artists: https://www.billboard.com/charts/year-end\n",
    "- Scraping Lyrics: https://lyricsgenius.readthedocs.io/en/master/index.html"
   ]
  },
  {
   "cell_type": "code",
   "execution_count": 4,
   "metadata": {},
   "outputs": [],
   "source": [
    "#Keep my access token secret\n",
    "\n",
    "with open('./token.txt', 'r') as f:\n",
    "    token = f.read().replace('\\n', '')"
   ]
  },
  {
   "cell_type": "code",
   "execution_count": 5,
   "metadata": {},
   "outputs": [],
   "source": [
    "from lyricsgenius import Genius #Credit: https://lyricsgenius.readthedocs.io/en/master/index.html\n",
    "import pandas as pd\n",
    "import numpy as np\n",
    "import json\n",
    "import os\n",
    "import requests\n",
    "from bs4 import BeautifulSoup\n",
    "\n",
    "import matplotlib.pyplot as plt\n",
    "import seaborn as sns\n",
    "\n",
    "genius = Genius(token, \n",
    "                sleep_time = 1, #don't overload the servers\n",
    "                remove_section_headers=True, #removes [Chorus], [Bridge], etc. headers from lyrics.\n",
    "                verbose=False) # Do not print out results"
   ]
  },
  {
   "cell_type": "markdown",
   "metadata": {},
   "source": [
    "# Scrape Billboard Top Artist Categories"
   ]
  },
  {
   "cell_type": "code",
   "execution_count": 6,
   "metadata": {},
   "outputs": [],
   "source": [
    "#function will scrape past 3 years of top billboard artists for that genre\n",
    "def get_top_artists(years=['2017','2018','2019'], genre=('folk-artists', 'pop-songs-artists','dance-club-artists')):\n",
    "    \n",
    "    #create empty list to store artists\n",
    "    artists = []\n",
    "    \n",
    "    #loop through each year\n",
    "    for year in years:\n",
    "    \n",
    "        #build the url\n",
    "        url = 'https://www.billboard.com/charts/year-end/'+ year + '/' + genre\n",
    "        res = requests.get(url)\n",
    "        soup = BeautifulSoup(res.content, 'lxml')\n",
    "        \n",
    "        #scrape the top artists\n",
    "        for row in soup.find_all('div', attrs={'class': 'ye-chart-item__title'}):\n",
    "            artists.append((row.find('a').text).replace('\\n','').strip()) #remove extra spaces and new line chars\n",
    "            \n",
    "    return list(set(artists)) #only return unique values"
   ]
  },
  {
   "cell_type": "code",
   "execution_count": 7,
   "metadata": {},
   "outputs": [
    {
     "data": {
      "text/plain": [
       "['James Taylor',\n",
       " 'Ed Sheeran',\n",
       " 'The Lumineers',\n",
       " 'Jack Johnson',\n",
       " 'John Mayer',\n",
       " 'Chris Stapleton',\n",
       " 'Hozier',\n",
       " 'Neil Young',\n",
       " 'Lord Huron',\n",
       " 'Mumford & Sons',\n",
       " 'Kacey Musgraves',\n",
       " 'KALEO',\n",
       " 'Tyler Childers',\n",
       " 'Vance Joy',\n",
       " 'Simon & Garfunkel',\n",
       " 'Leon Bridges']"
      ]
     },
     "execution_count": 7,
     "metadata": {},
     "output_type": "execute_result"
    }
   ],
   "source": [
    "folk_artists = get_top_artists(genre='folk-artists')\n",
    "folk_artists"
   ]
  },
  {
   "cell_type": "code",
   "execution_count": 8,
   "metadata": {},
   "outputs": [
    {
     "data": {
      "text/plain": [
       "['Bruno Mars',\n",
       " 'Khalid',\n",
       " 'Shawn Mendes',\n",
       " 'Niall Horan',\n",
       " 'Jonas Brothers',\n",
       " 'Charlie Puth',\n",
       " 'Lizzo',\n",
       " 'Drake',\n",
       " 'Imagine Dragons',\n",
       " 'Dua Lipa',\n",
       " 'Post Malone',\n",
       " 'Halsey',\n",
       " 'Maroon 5',\n",
       " 'The Chainsmokers',\n",
       " 'Billie Eilish',\n",
       " 'Alessia Cara',\n",
       " 'NF',\n",
       " 'Ed Sheeran',\n",
       " 'Ariana Grande',\n",
       " 'Panic! At The Disco',\n",
       " 'Camila Cabello',\n",
       " 'Selena Gomez']"
      ]
     },
     "execution_count": 8,
     "metadata": {},
     "output_type": "execute_result"
    }
   ],
   "source": [
    "pop_artists = get_top_artists(genre='pop-songs-artists')\n",
    "pop_artists"
   ]
  },
  {
   "cell_type": "code",
   "execution_count": 9,
   "metadata": {},
   "outputs": [
    {
     "data": {
      "text/plain": [
       "['Bruno Mars',\n",
       " 'Dirty Werk',\n",
       " 'Kristine W',\n",
       " 'Sia',\n",
       " 'Diana Ross',\n",
       " 'Barbara Tucker',\n",
       " 'Ono',\n",
       " 'DJs From Mars',\n",
       " 'Mark Ronson',\n",
       " 'Tony Moran',\n",
       " 'Bebe Rexha',\n",
       " 'Sam Smith',\n",
       " 'Rita Ora',\n",
       " 'Toni Braxton',\n",
       " 'Donna Summer',\n",
       " 'Niall Horan',\n",
       " 'Dave Aude',\n",
       " 'Ava Max',\n",
       " 'Axwell & Ingrosso',\n",
       " 'Skylar Stecker',\n",
       " 'VASSY',\n",
       " 'DNCE',\n",
       " 'Sabrina Carpenter',\n",
       " 'Clean Bandit',\n",
       " 'Bleona',\n",
       " 'Todd Edwards',\n",
       " 'Troye Sivan',\n",
       " 'R3HAB',\n",
       " 'Jonas Blue',\n",
       " 'DJ Snake',\n",
       " 'Dua Lipa',\n",
       " 'Halsey',\n",
       " 'Demi Lovato',\n",
       " 'Jack Back',\n",
       " 'Gryffin',\n",
       " 'Calvin Harris',\n",
       " 'Ed Sheeran',\n",
       " 'Blondie',\n",
       " 'Madonna',\n",
       " 'Kendra Erika',\n",
       " 'Kelly Clarkson',\n",
       " 'Marshmello',\n",
       " 'Miley Cyrus',\n",
       " 'Gorgon City',\n",
       " 'FISHER',\n",
       " 'Deborah Cox',\n",
       " 'Roberto Surace',\n",
       " 'Rihanna',\n",
       " 'Fatboy Slim',\n",
       " 'Sting',\n",
       " 'Ariana Grande',\n",
       " 'David Guetta',\n",
       " 'Alesso',\n",
       " 'LeAnn Rimes',\n",
       " 'Katy Perry',\n",
       " 'Austin Mahone',\n",
       " 'U2',\n",
       " 'J Sutta',\n",
       " 'Dido',\n",
       " 'Hilary Roberts',\n",
       " 'P!nk',\n",
       " 'Lisa Williams']"
      ]
     },
     "execution_count": 9,
     "metadata": {},
     "output_type": "execute_result"
    }
   ],
   "source": [
    "dance_artists = get_top_artists(genre='dance-club-artists')\n",
    "dance_artists"
   ]
  },
  {
   "cell_type": "code",
   "execution_count": 10,
   "metadata": {},
   "outputs": [
    {
     "name": "stdout",
     "output_type": "stream",
     "text": [
      "Stored 'folk_artists' (list)\n",
      "Stored 'pop_artists' (list)\n",
      "Stored 'dance_artists' (list)\n"
     ]
    }
   ],
   "source": [
    "### Store to be used in another notebook\n",
    "%store folk_artists\n",
    "%store pop_artists\n",
    "%store dance_artists"
   ]
  },
  {
   "cell_type": "markdown",
   "metadata": {},
   "source": [
    "# Scrape Lyrics from Multiple Artists"
   ]
  },
  {
   "cell_type": "code",
   "execution_count": 11,
   "metadata": {},
   "outputs": [],
   "source": [
    "#Function to scrape lyrics from the Genius API\n",
    "\n",
    "def scrape_lyrics(artist_list):\n",
    "    \n",
    "    for artist in artist_list:\n",
    "        artist_lyrics = genius.search_artist(artist, max_songs=2) #grab all of the lyrics from an artist \n",
    "        \n",
    "        #save the output as a json file\n",
    "        genius.save_artists(artists=[artist_lyrics], overwrite=True)\n",
    "        \n",
    "    return None\n",
    "                            "
   ]
  },
  {
   "cell_type": "code",
   "execution_count": 31,
   "metadata": {},
   "outputs": [],
   "source": [
    "#scrape all lyrics for top folk_artists from 2017-2019\n",
    "scrape_lyrics(folk_artists)"
   ]
  },
  {
   "cell_type": "code",
   "execution_count": 44,
   "metadata": {},
   "outputs": [],
   "source": [
    "#scrape all lyrics for top pop-songs-artists from 2017-2019\n",
    "scrape_lyrics(pop_artists)"
   ]
  },
  {
   "cell_type": "markdown",
   "metadata": {},
   "source": [
    "# Function to Create Lyrics Dataframe for each artist"
   ]
  },
  {
   "cell_type": "code",
   "execution_count": 12,
   "metadata": {},
   "outputs": [],
   "source": [
    "def get_lyrics(filename):\n",
    "    \n",
    "    # Reading the json as a dict\n",
    "    with open(filename) as json_data:\n",
    "        data = json.load(json_data)\n",
    "\n",
    "    #Source credit: https://stackoverflow.com/questions/28373282/how-to-read-a-json-dictionary-type-file-with-pandas\n",
    "    \n",
    "    #need to account for that every song doesn't have a spotify url\n",
    "    spotify_url = []\n",
    "    for song in range(0,len(data['songs'])): #for each song\n",
    "        if len(data['songs'][song]['media']) > 0: #are there any values in media?\n",
    "\n",
    "            #store a list of providers to later check if spotify is in that list\n",
    "            contains_spotify = [data['songs'][song]['media'][item]['provider'] for item in range(0,len(data['songs'][song]['media']))] \n",
    "\n",
    "            if 'spotify' in contains_spotify: \n",
    "                for item in range(0,len(data['songs'][song]['media'])):  #loop through each item\n",
    "                    if (data['songs'][song]['media'][item]['provider'] == 'spotify'): #find the item that is spotify\n",
    "                        spotify_url.append(data['songs'][song]['media'][item]['url']) #add the url \n",
    "            else:\n",
    "                spotify_url.append('NA')\n",
    "        else:\n",
    "            spotify_url.append('NA')\n",
    "    \n",
    "    #create a dataframe\n",
    "    df =  pd.DataFrame({\n",
    "\n",
    "        #multiply by length of songs in json response to create a new row for each\n",
    "        'artist_name' : [data['name']] * len(data['songs']),                                              #artist name\n",
    "        'image_url' : [data['image_url']] * len(data['songs']),                                           #thumbnail image\n",
    "        'url' : [data['url']] * len(data['songs']),                                                       #genius url\n",
    "\n",
    "        #song data\n",
    "        'title' : [data['songs'][item]['title'] for item in range(0,len(data['songs']))],                 #title of each song\n",
    "        'lyrics' : [data['songs'][item]['lyrics'] for item in range(0,len(data['songs']))],                #song lyrics           \n",
    "        'spotify_url' :  spotify_url, #spotify url\n",
    "\n",
    "\n",
    "    })\n",
    "    return df    "
   ]
  },
  {
   "cell_type": "markdown",
   "metadata": {},
   "source": [
    "# Stack each artist Dataframe into one Dataframe"
   ]
  },
  {
   "cell_type": "code",
   "execution_count": 13,
   "metadata": {},
   "outputs": [
    {
     "data": {
      "text/html": [
       "<div>\n",
       "<style scoped>\n",
       "    .dataframe tbody tr th:only-of-type {\n",
       "        vertical-align: middle;\n",
       "    }\n",
       "\n",
       "    .dataframe tbody tr th {\n",
       "        vertical-align: top;\n",
       "    }\n",
       "\n",
       "    .dataframe thead th {\n",
       "        text-align: right;\n",
       "    }\n",
       "</style>\n",
       "<table border=\"1\" class=\"dataframe\">\n",
       "  <thead>\n",
       "    <tr style=\"text-align: right;\">\n",
       "      <th></th>\n",
       "      <th>artist_name</th>\n",
       "      <th>image_url</th>\n",
       "      <th>url</th>\n",
       "      <th>title</th>\n",
       "      <th>lyrics</th>\n",
       "      <th>spotify_url</th>\n",
       "    </tr>\n",
       "  </thead>\n",
       "  <tbody>\n",
       "    <tr>\n",
       "      <th>0</th>\n",
       "      <td>Selena Gomez</td>\n",
       "      <td>https://images.genius.com/902d3ed593ed6f5e70ef...</td>\n",
       "      <td>https://genius.com/artists/Selena-gomez</td>\n",
       "      <td>Lose You To Love Me</td>\n",
       "      <td>You promised the world and I fell for it\\nI pu...</td>\n",
       "      <td>https://open.spotify.com/track/1HfMVBKM75vxSfs...</td>\n",
       "    </tr>\n",
       "    <tr>\n",
       "      <th>1</th>\n",
       "      <td>Selena Gomez</td>\n",
       "      <td>https://images.genius.com/902d3ed593ed6f5e70ef...</td>\n",
       "      <td>https://genius.com/artists/Selena-gomez</td>\n",
       "      <td>Back to You</td>\n",
       "      <td>Took you like a shot\\nThought that I could cha...</td>\n",
       "      <td>https://open.spotify.com/track/514rhnksEwHUh6L...</td>\n",
       "    </tr>\n",
       "    <tr>\n",
       "      <th>2</th>\n",
       "      <td>Selena Gomez</td>\n",
       "      <td>https://images.genius.com/902d3ed593ed6f5e70ef...</td>\n",
       "      <td>https://genius.com/artists/Selena-gomez</td>\n",
       "      <td>Fetish</td>\n",
       "      <td>Take it or leave it\\nBaby take it or leave it\\...</td>\n",
       "      <td>https://open.spotify.com/track/4lnAN2S1fcI0Sjx...</td>\n",
       "    </tr>\n",
       "    <tr>\n",
       "      <th>3</th>\n",
       "      <td>Selena Gomez</td>\n",
       "      <td>https://images.genius.com/902d3ed593ed6f5e70ef...</td>\n",
       "      <td>https://genius.com/artists/Selena-gomez</td>\n",
       "      <td>Bad Liar</td>\n",
       "      <td>I was walking down the street the other day\\nT...</td>\n",
       "      <td>https://open.spotify.com/track/2fZQIJew3nkNe99...</td>\n",
       "    </tr>\n",
       "    <tr>\n",
       "      <th>4</th>\n",
       "      <td>Selena Gomez</td>\n",
       "      <td>https://images.genius.com/902d3ed593ed6f5e70ef...</td>\n",
       "      <td>https://genius.com/artists/Selena-gomez</td>\n",
       "      <td>Look At Her Now</td>\n",
       "      <td>Yeah\\n\\nThey fell in love one summer\\nA little...</td>\n",
       "      <td>NA</td>\n",
       "    </tr>\n",
       "  </tbody>\n",
       "</table>\n",
       "</div>"
      ],
      "text/plain": [
       "    artist_name                                          image_url  \\\n",
       "0  Selena Gomez  https://images.genius.com/902d3ed593ed6f5e70ef...   \n",
       "1  Selena Gomez  https://images.genius.com/902d3ed593ed6f5e70ef...   \n",
       "2  Selena Gomez  https://images.genius.com/902d3ed593ed6f5e70ef...   \n",
       "3  Selena Gomez  https://images.genius.com/902d3ed593ed6f5e70ef...   \n",
       "4  Selena Gomez  https://images.genius.com/902d3ed593ed6f5e70ef...   \n",
       "\n",
       "                                       url                title  \\\n",
       "0  https://genius.com/artists/Selena-gomez  Lose You To Love Me   \n",
       "1  https://genius.com/artists/Selena-gomez          Back to You   \n",
       "2  https://genius.com/artists/Selena-gomez               Fetish   \n",
       "3  https://genius.com/artists/Selena-gomez             Bad Liar   \n",
       "4  https://genius.com/artists/Selena-gomez      Look At Her Now   \n",
       "\n",
       "                                              lyrics  \\\n",
       "0  You promised the world and I fell for it\\nI pu...   \n",
       "1  Took you like a shot\\nThought that I could cha...   \n",
       "2  Take it or leave it\\nBaby take it or leave it\\...   \n",
       "3  I was walking down the street the other day\\nT...   \n",
       "4  Yeah\\n\\nThey fell in love one summer\\nA little...   \n",
       "\n",
       "                                         spotify_url  \n",
       "0  https://open.spotify.com/track/1HfMVBKM75vxSfs...  \n",
       "1  https://open.spotify.com/track/514rhnksEwHUh6L...  \n",
       "2  https://open.spotify.com/track/4lnAN2S1fcI0Sjx...  \n",
       "3  https://open.spotify.com/track/2fZQIJew3nkNe99...  \n",
       "4                                                 NA  "
      ]
     },
     "execution_count": 13,
     "metadata": {},
     "output_type": "execute_result"
    }
   ],
   "source": [
    "#create a list of the lyrics json files to be created as dataframes\n",
    "lyrics_files = ['./lyrics_json/' + filename for filename in os.listdir('./lyrics_json/') if filename.startswith('Lyrics_')]\n",
    "\n",
    "#create a dataframe for each file and stack them into one dataframe\n",
    "all_songs_df = pd.concat([get_lyrics(file) for file in lyrics_files])\n",
    "\n",
    "all_songs_df.head()"
   ]
  },
  {
   "cell_type": "markdown",
   "metadata": {},
   "source": [
    "### Remove \"Live Songs\" and \"Covers\" From The Dataframe\n",
    "\n",
    "Live songs are a sign of duplicates and Covers belong to another artist."
   ]
  },
  {
   "cell_type": "code",
   "execution_count": 14,
   "metadata": {},
   "outputs": [],
   "source": [
    "# Remove songs that were performed live\n",
    "all_songs = all_songs_df[~all_songs_df['title'].str.contains('Live in|Live at|Live from|\\(*Live*\\)|\\(*Cover*\\)',case=False, regex=True)]"
   ]
  },
  {
   "cell_type": "markdown",
   "metadata": {},
   "source": [
    "### Add a column `billboard_genre`"
   ]
  },
  {
   "cell_type": "code",
   "execution_count": 15,
   "metadata": {},
   "outputs": [],
   "source": [
    "folk_artists.remove('Ed Sheeran') #Ed Sheeran is in both lists and will be \"Pop\" for this use case"
   ]
  },
  {
   "cell_type": "code",
   "execution_count": 16,
   "metadata": {},
   "outputs": [
    {
     "name": "stderr",
     "output_type": "stream",
     "text": [
      "/Users/joshuamizraji/anaconda3/envs/personal/lib/python3.7/site-packages/ipykernel_launcher.py:11: SettingWithCopyWarning: \n",
      "A value is trying to be set on a copy of a slice from a DataFrame.\n",
      "Try using .loc[row_indexer,col_indexer] = value instead\n",
      "\n",
      "See the caveats in the documentation: https://pandas.pydata.org/pandas-docs/stable/user_guide/indexing.html#returning-a-view-versus-a-copy\n",
      "  # This is added back by InteractiveShellApp.init_path()\n"
     ]
    }
   ],
   "source": [
    "# create a list of our conditions\n",
    "conditions = [\n",
    "    (all_songs['artist_name'].str.contains('|'.join(folk_artists),case=False, regex=True)),\n",
    "    (all_songs['artist_name'].str.contains('|'.join(pop_artists),case=False, regex=True)) \n",
    "    ]\n",
    "\n",
    "# create a list of the values we want to assign for each condition\n",
    "values = ['folk_americana', 'pop']\n",
    "\n",
    "# create a new column and use np.select to assign values to it using our lists as arguments\n",
    "all_songs['billboard_genre'] = np.select(conditions, values)\n",
    "\n",
    "#adapted from https://www.dataquest.io/blog/tutorial-add-column-pandas-dataframe-based-on-if-else-condition/ "
   ]
  },
  {
   "cell_type": "markdown",
   "metadata": {},
   "source": [
    "### Check Spotify URLs"
   ]
  },
  {
   "cell_type": "code",
   "execution_count": 17,
   "metadata": {},
   "outputs": [
    {
     "name": "stdout",
     "output_type": "stream",
     "text": [
      "Songs without Spotify URL: 4099\n",
      "Songs with Spotify URL: 1113\n",
      "Percentage without Spotify URL: 0.786\n",
      "Percentage with Spotify URL: 0.214\n"
     ]
    }
   ],
   "source": [
    "#view how many songs don't have a spotify url\n",
    "no_spotify_ct = all_songs[all_songs['spotify_url'] == 'NA'].shape[0]\n",
    "yes_spotify_ct = all_songs[all_songs['spotify_url'] != 'NA'].shape[0]\n",
    "print(f'Songs without Spotify URL: {no_spotify_ct}')\n",
    "print(f'Songs with Spotify URL: {yes_spotify_ct}')\n",
    "print(f'Percentage without Spotify URL: {round(no_spotify_ct / (all_songs.shape[0]),3)}')\n",
    "print(f'Percentage with Spotify URL: {round(yes_spotify_ct / (all_songs.shape[0]),3)}')"
   ]
  },
  {
   "cell_type": "markdown",
   "metadata": {},
   "source": [
    "### Check for null values"
   ]
  },
  {
   "cell_type": "code",
   "execution_count": 47,
   "metadata": {},
   "outputs": [
    {
     "data": {
      "text/plain": [
       "artist_name        0\n",
       "image_url          0\n",
       "url                0\n",
       "title              0\n",
       "lyrics             0\n",
       "spotify_url        0\n",
       "billboard_genre    0\n",
       "dtype: int64"
      ]
     },
     "execution_count": 47,
     "metadata": {},
     "output_type": "execute_result"
    }
   ],
   "source": [
    "all_songs.isnull().sum()"
   ]
  },
  {
   "cell_type": "markdown",
   "metadata": {},
   "source": [
    "#### Check the Value Counts of Each Artist"
   ]
  },
  {
   "cell_type": "code",
   "execution_count": 46,
   "metadata": {},
   "outputs": [
    {
     "data": {
      "image/png": "[encoded data removed]",
      "text/plain": [
       "<Figure size 864x720 with 1 Axes>"
      ]
     },
     "metadata": {
      "needs_background": "light"
     },
     "output_type": "display_data"
    }
   ],
   "source": [
    "plt.figure(figsize=(12,10))\n",
    "all_songs_df['artist_name'].value_counts(ascending=True).plot(kind='barh',color='m');\n",
    "plt.title('Song Lyrics Count by Artist', size=16);\n",
    "plt.savefig('./imgs/song_lyrics_count.jpeg',bbox_inches='tight');"
   ]
  },
  {
   "cell_type": "markdown",
   "metadata": {},
   "source": [
    "## Save DataFrame as a csv"
   ]
  },
  {
   "cell_type": "code",
   "execution_count": 132,
   "metadata": {},
   "outputs": [],
   "source": [
    "#save as a csv\n",
    "all_songs.to_csv('all_songs.csv', index=False)"
   ]
  },
  {
   "cell_type": "markdown",
   "metadata": {},
   "source": [
    "# Create a Dataframe with all of the lyrics in one cell by artist"
   ]
  },
  {
   "cell_type": "code",
   "execution_count": 24,
   "metadata": {},
   "outputs": [],
   "source": [
    "#create a blank dictionary\n",
    "ly_dict = {}\n",
    "\n",
    "for artist in all_songs['artist_name'].unique():\n",
    "    \n",
    "    ly_dict['artist_name'] = [artist for artist in all_songs['artist_name'].unique()] \n",
    "    ly_dict['lyrics'] = [all_songs[all_songs['artist_name'] == artist]['lyrics'].str.cat(sep=' ') for artist in all_songs['artist_name'].unique()]\n",
    "    ly_dict['billboard_genre'] = [all_songs[all_songs['artist_name'] == artist]['billboard_genre'].values[0] for artist in all_songs['artist_name'].unique()]\n",
    "\n",
    "all_lyrics = pd.DataFrame(ly_dict)"
   ]
  },
  {
   "cell_type": "code",
   "execution_count": 25,
   "metadata": {},
   "outputs": [
    {
     "data": {
      "text/html": [
       "<div>\n",
       "<style scoped>\n",
       "    .dataframe tbody tr th:only-of-type {\n",
       "        vertical-align: middle;\n",
       "    }\n",
       "\n",
       "    .dataframe tbody tr th {\n",
       "        vertical-align: top;\n",
       "    }\n",
       "\n",
       "    .dataframe thead th {\n",
       "        text-align: right;\n",
       "    }\n",
       "</style>\n",
       "<table border=\"1\" class=\"dataframe\">\n",
       "  <thead>\n",
       "    <tr style=\"text-align: right;\">\n",
       "      <th></th>\n",
       "      <th>artist_name</th>\n",
       "      <th>lyrics</th>\n",
       "      <th>billboard_genre</th>\n",
       "    </tr>\n",
       "  </thead>\n",
       "  <tbody>\n",
       "    <tr>\n",
       "      <th>0</th>\n",
       "      <td>Selena Gomez</td>\n",
       "      <td>You promised the world and I fell for it\\nI pu...</td>\n",
       "      <td>pop</td>\n",
       "    </tr>\n",
       "    <tr>\n",
       "      <th>1</th>\n",
       "      <td>​The Lumineers</td>\n",
       "      <td>Ah, ah, when I was younger\\nI, I should've kno...</td>\n",
       "      <td>folk_americana</td>\n",
       "    </tr>\n",
       "    <tr>\n",
       "      <th>2</th>\n",
       "      <td>Simon &amp; Garfunkel</td>\n",
       "      <td>Hello darkness, my old friend\\nI've come to ta...</td>\n",
       "      <td>folk_americana</td>\n",
       "    </tr>\n",
       "    <tr>\n",
       "      <th>3</th>\n",
       "      <td>Mumford &amp; Sons</td>\n",
       "      <td>Heto mi halanma\\nMine waddimi yiddema\\nKo ane ...</td>\n",
       "      <td>folk_americana</td>\n",
       "    </tr>\n",
       "    <tr>\n",
       "      <th>4</th>\n",
       "      <td>Lord Huron</td>\n",
       "      <td>I am not the only traveler\\nWho has not repaid...</td>\n",
       "      <td>folk_americana</td>\n",
       "    </tr>\n",
       "    <tr>\n",
       "      <th>5</th>\n",
       "      <td>Billie Eilish</td>\n",
       "      <td>Don't you know I'm no good for you?\\nI've lear...</td>\n",
       "      <td>pop</td>\n",
       "    </tr>\n",
       "    <tr>\n",
       "      <th>6</th>\n",
       "      <td>Vance Joy</td>\n",
       "      <td>I was scared of dentists and the dark\\nI was s...</td>\n",
       "      <td>folk_americana</td>\n",
       "    </tr>\n",
       "    <tr>\n",
       "      <th>7</th>\n",
       "      <td>Neil Young</td>\n",
       "      <td>Old man, look at my life\\nI'm a lot like you w...</td>\n",
       "      <td>folk_americana</td>\n",
       "    </tr>\n",
       "    <tr>\n",
       "      <th>8</th>\n",
       "      <td>Ariana Grande</td>\n",
       "      <td>Thought I'd end up with Sean\\nBut he wasn't a ...</td>\n",
       "      <td>pop</td>\n",
       "    </tr>\n",
       "    <tr>\n",
       "      <th>9</th>\n",
       "      <td>Niall Horan</td>\n",
       "      <td>(Woo)\\n\\nWe should take this back to my place\\...</td>\n",
       "      <td>pop</td>\n",
       "    </tr>\n",
       "    <tr>\n",
       "      <th>10</th>\n",
       "      <td>Shawn Mendes</td>\n",
       "      <td>I wanna follow where she goes\\nI think about h...</td>\n",
       "      <td>pop</td>\n",
       "    </tr>\n",
       "    <tr>\n",
       "      <th>11</th>\n",
       "      <td>The Chainsmokers</td>\n",
       "      <td>Hey, I was doing just fine before I met you\\nI...</td>\n",
       "      <td>pop</td>\n",
       "    </tr>\n",
       "    <tr>\n",
       "      <th>12</th>\n",
       "      <td>Imagine Dragons</td>\n",
       "      <td>First things first\\nI'ma say all the words ins...</td>\n",
       "      <td>pop</td>\n",
       "    </tr>\n",
       "    <tr>\n",
       "      <th>13</th>\n",
       "      <td>Kacey Musgraves</td>\n",
       "      <td>When it rains, it pours\\nBut you didn't even n...</td>\n",
       "      <td>folk_americana</td>\n",
       "    </tr>\n",
       "    <tr>\n",
       "      <th>14</th>\n",
       "      <td>Post Malone</td>\n",
       "      <td>Hahahahaha\\nTank God\\nAyy, ayy\\n\\nI've been fu...</td>\n",
       "      <td>pop</td>\n",
       "    </tr>\n",
       "    <tr>\n",
       "      <th>15</th>\n",
       "      <td>Leon Bridges</td>\n",
       "      <td>Been travelling these wide roads\\nFor so long\\...</td>\n",
       "      <td>folk_americana</td>\n",
       "    </tr>\n",
       "    <tr>\n",
       "      <th>16</th>\n",
       "      <td>Hozier</td>\n",
       "      <td>My lover's got humor\\nShe's the giggle at a fu...</td>\n",
       "      <td>folk_americana</td>\n",
       "    </tr>\n",
       "    <tr>\n",
       "      <th>17</th>\n",
       "      <td>Camila Cabello</td>\n",
       "      <td>Hey\\n\\nHavana, ooh na-na (Ayy)\\nHalf of my hea...</td>\n",
       "      <td>pop</td>\n",
       "    </tr>\n",
       "    <tr>\n",
       "      <th>18</th>\n",
       "      <td>Panic! at the Disco</td>\n",
       "      <td>High, high hopes\\n\\nHad to have high, high hop...</td>\n",
       "      <td>pop</td>\n",
       "    </tr>\n",
       "    <tr>\n",
       "      <th>19</th>\n",
       "      <td>Alessia Cara</td>\n",
       "      <td>I guess right now you've got the last laugh\\n\\...</td>\n",
       "      <td>pop</td>\n",
       "    </tr>\n",
       "    <tr>\n",
       "      <th>20</th>\n",
       "      <td>NF</td>\n",
       "      <td>Feels like we're on the edge right now\\nI wish...</td>\n",
       "      <td>pop</td>\n",
       "    </tr>\n",
       "    <tr>\n",
       "      <th>21</th>\n",
       "      <td>Chris Stapleton</td>\n",
       "      <td>Used to spend my nights out in a barroom\\nLiqu...</td>\n",
       "      <td>folk_americana</td>\n",
       "    </tr>\n",
       "    <tr>\n",
       "      <th>22</th>\n",
       "      <td>John Mayer</td>\n",
       "      <td>Ah, ah, ah\\nAh...\\n\\nI'm the boy in your other...</td>\n",
       "      <td>folk_americana</td>\n",
       "    </tr>\n",
       "    <tr>\n",
       "      <th>23</th>\n",
       "      <td>Lizzo</td>\n",
       "      <td>Why men great 'til they gotta be great?\\nWoo!\\...</td>\n",
       "      <td>pop</td>\n",
       "    </tr>\n",
       "    <tr>\n",
       "      <th>24</th>\n",
       "      <td>Dua Lipa</td>\n",
       "      <td>One, one, one, one, one\\n\\nTalkin' in my sleep...</td>\n",
       "      <td>pop</td>\n",
       "    </tr>\n",
       "    <tr>\n",
       "      <th>25</th>\n",
       "      <td>Maroon 5</td>\n",
       "      <td>Spent 24 hours\\nI need more hours with you\\nYo...</td>\n",
       "      <td>pop</td>\n",
       "    </tr>\n",
       "    <tr>\n",
       "      <th>26</th>\n",
       "      <td>James Taylor</td>\n",
       "      <td>Just yesterday morning, they let me know you w...</td>\n",
       "      <td>folk_americana</td>\n",
       "    </tr>\n",
       "    <tr>\n",
       "      <th>27</th>\n",
       "      <td>Khalid</td>\n",
       "      <td>So you're still thinking of me\\nJust like I kn...</td>\n",
       "      <td>pop</td>\n",
       "    </tr>\n",
       "    <tr>\n",
       "      <th>28</th>\n",
       "      <td>Drake</td>\n",
       "      <td>And they wishin' and wishin' and wishin' and w...</td>\n",
       "      <td>pop</td>\n",
       "    </tr>\n",
       "    <tr>\n",
       "      <th>29</th>\n",
       "      <td>Halsey</td>\n",
       "      <td>Found you when your heart was broke\\nI filled ...</td>\n",
       "      <td>pop</td>\n",
       "    </tr>\n",
       "    <tr>\n",
       "      <th>30</th>\n",
       "      <td>Bruno Mars</td>\n",
       "      <td>Hey, hey, hey\\nI got a condo in Manhattan\\nBab...</td>\n",
       "      <td>pop</td>\n",
       "    </tr>\n",
       "    <tr>\n",
       "      <th>31</th>\n",
       "      <td>Charlie Puth</td>\n",
       "      <td>Woah-oh, hm-hmm\\n\\nYou've been runnin' 'round,...</td>\n",
       "      <td>pop</td>\n",
       "    </tr>\n",
       "    <tr>\n",
       "      <th>32</th>\n",
       "      <td>KALEO</td>\n",
       "      <td>Oh, father, tell me, do we get what we deserve...</td>\n",
       "      <td>folk_americana</td>\n",
       "    </tr>\n",
       "    <tr>\n",
       "      <th>33</th>\n",
       "      <td>Tyler Childers</td>\n",
       "      <td>Well my buckle makes impressions\\nOn the insid...</td>\n",
       "      <td>folk_americana</td>\n",
       "    </tr>\n",
       "    <tr>\n",
       "      <th>34</th>\n",
       "      <td>Ed Sheeran</td>\n",
       "      <td>The club isn't the best place to find a lover\\...</td>\n",
       "      <td>pop</td>\n",
       "    </tr>\n",
       "    <tr>\n",
       "      <th>35</th>\n",
       "      <td>Jack Johnson</td>\n",
       "      <td>Can't you see that it's just raining?\\nThere a...</td>\n",
       "      <td>folk_americana</td>\n",
       "    </tr>\n",
       "    <tr>\n",
       "      <th>36</th>\n",
       "      <td>Jonas Brothers</td>\n",
       "      <td>We go together\\nBetter than birds of a feather...</td>\n",
       "      <td>pop</td>\n",
       "    </tr>\n",
       "  </tbody>\n",
       "</table>\n",
       "</div>"
      ],
      "text/plain": [
       "            artist_name                                             lyrics  \\\n",
       "0          Selena Gomez  You promised the world and I fell for it\\nI pu...   \n",
       "1        ​The Lumineers  Ah, ah, when I was younger\\nI, I should've kno...   \n",
       "2     Simon & Garfunkel  Hello darkness, my old friend\\nI've come to ta...   \n",
       "3        Mumford & Sons  Heto mi halanma\\nMine waddimi yiddema\\nKo ane ...   \n",
       "4            Lord Huron  I am not the only traveler\\nWho has not repaid...   \n",
       "5         Billie Eilish  Don't you know I'm no good for you?\\nI've lear...   \n",
       "6             Vance Joy  I was scared of dentists and the dark\\nI was s...   \n",
       "7            Neil Young  Old man, look at my life\\nI'm a lot like you w...   \n",
       "8         Ariana Grande  Thought I'd end up with Sean\\nBut he wasn't a ...   \n",
       "9           Niall Horan  (Woo)\\n\\nWe should take this back to my place\\...   \n",
       "10         Shawn Mendes  I wanna follow where she goes\\nI think about h...   \n",
       "11     The Chainsmokers  Hey, I was doing just fine before I met you\\nI...   \n",
       "12      Imagine Dragons  First things first\\nI'ma say all the words ins...   \n",
       "13      Kacey Musgraves  When it rains, it pours\\nBut you didn't even n...   \n",
       "14          Post Malone  Hahahahaha\\nTank God\\nAyy, ayy\\n\\nI've been fu...   \n",
       "15         Leon Bridges  Been travelling these wide roads\\nFor so long\\...   \n",
       "16               Hozier  My lover's got humor\\nShe's the giggle at a fu...   \n",
       "17       Camila Cabello  Hey\\n\\nHavana, ooh na-na (Ayy)\\nHalf of my hea...   \n",
       "18  Panic! at the Disco  High, high hopes\\n\\nHad to have high, high hop...   \n",
       "19         Alessia Cara  I guess right now you've got the last laugh\\n\\...   \n",
       "20                   NF  Feels like we're on the edge right now\\nI wish...   \n",
       "21      Chris Stapleton  Used to spend my nights out in a barroom\\nLiqu...   \n",
       "22           John Mayer  Ah, ah, ah\\nAh...\\n\\nI'm the boy in your other...   \n",
       "23                Lizzo  Why men great 'til they gotta be great?\\nWoo!\\...   \n",
       "24             Dua Lipa  One, one, one, one, one\\n\\nTalkin' in my sleep...   \n",
       "25             Maroon 5  Spent 24 hours\\nI need more hours with you\\nYo...   \n",
       "26         James Taylor  Just yesterday morning, they let me know you w...   \n",
       "27               Khalid  So you're still thinking of me\\nJust like I kn...   \n",
       "28                Drake  And they wishin' and wishin' and wishin' and w...   \n",
       "29               Halsey  Found you when your heart was broke\\nI filled ...   \n",
       "30           Bruno Mars  Hey, hey, hey\\nI got a condo in Manhattan\\nBab...   \n",
       "31         Charlie Puth  Woah-oh, hm-hmm\\n\\nYou've been runnin' 'round,...   \n",
       "32                KALEO  Oh, father, tell me, do we get what we deserve...   \n",
       "33       Tyler Childers  Well my buckle makes impressions\\nOn the insid...   \n",
       "34           Ed Sheeran  The club isn't the best place to find a lover\\...   \n",
       "35         Jack Johnson  Can't you see that it's just raining?\\nThere a...   \n",
       "36       Jonas Brothers  We go together\\nBetter than birds of a feather...   \n",
       "\n",
       "   billboard_genre  \n",
       "0              pop  \n",
       "1   folk_americana  \n",
       "2   folk_americana  \n",
       "3   folk_americana  \n",
       "4   folk_americana  \n",
       "5              pop  \n",
       "6   folk_americana  \n",
       "7   folk_americana  \n",
       "8              pop  \n",
       "9              pop  \n",
       "10             pop  \n",
       "11             pop  \n",
       "12             pop  \n",
       "13  folk_americana  \n",
       "14             pop  \n",
       "15  folk_americana  \n",
       "16  folk_americana  \n",
       "17             pop  \n",
       "18             pop  \n",
       "19             pop  \n",
       "20             pop  \n",
       "21  folk_americana  \n",
       "22  folk_americana  \n",
       "23             pop  \n",
       "24             pop  \n",
       "25             pop  \n",
       "26  folk_americana  \n",
       "27             pop  \n",
       "28             pop  \n",
       "29             pop  \n",
       "30             pop  \n",
       "31             pop  \n",
       "32  folk_americana  \n",
       "33  folk_americana  \n",
       "34             pop  \n",
       "35  folk_americana  \n",
       "36             pop  "
      ]
     },
     "execution_count": 25,
     "metadata": {},
     "output_type": "execute_result"
    }
   ],
   "source": [
    "all_lyrics"
   ]
  },
  {
   "cell_type": "markdown",
   "metadata": {},
   "source": [
    "### Save as a CSV"
   ]
  },
  {
   "cell_type": "code",
   "execution_count": 34,
   "metadata": {},
   "outputs": [],
   "source": [
    "#save as a csv\n",
    "all_lyrics.to_csv('all_lyrics.csv', index=False)"
   ]
  },
  {
   "cell_type": "code",
   "execution_count": null,
   "metadata": {},
   "outputs": [],
   "source": []
  }
 ],
 "metadata": {
  "kernelspec": {
   "display_name": "Python 3",
   "language": "python",
   "name": "python3"
  },
  "language_info": {
   "codemirror_mode": {
    "name": "ipython",
    "version": 3
   },
   "file_extension": ".py",
   "mimetype": "text/x-python",
   "name": "python",
   "nbconvert_exporter": "python",
   "pygments_lexer": "ipython3",
   "version": "3.7.7"
  }
 },
 "nbformat": 4,
 "nbformat_minor": 4
}
