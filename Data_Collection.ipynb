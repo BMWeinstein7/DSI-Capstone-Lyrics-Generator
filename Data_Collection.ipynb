{
 "cells": [
  {
   "cell_type": "markdown",
   "metadata": {},
   "source": [
    "## Song Lyrics Generator\n",
    "\n",
    "#### Problem Statement\n",
    "Overcoming writers block and writing creative lyrics can be a difficult task for most musicians, which leads to frustration and feeling \"stuck\". For this project, I am hoping to create a text generation model that predicts the next word, couple words, or line of text for a new song in order to help musicians create awesome new lyrics. \n",
    "\n",
    "#### Proposed Method and Models\n",
    "- Gpt-2 to train my model -- Depending on the output, it would be interesting to let the user select a single artist they want their lyrics to sound like (MVP). It would also be interesting if I pulled from Spotify a list of similar artists and grouped them together to create another model, showcasing my ability to cluster. In addition, I could also create a generator by genre (which would require me to get a list of the top songs by genre and train a model for each)\n",
    "- Flask App\n",
    "- NLP\n",
    "- AWS\n",
    "\n",
    "#### Risks and Assumptions of My Data\n",
    "- Will have a large variety of artists and the lyrics to each of their songs\n",
    "- I could have duplicates of the same song\n",
    "- Song lyrics can be abstract, which I am not sure yet how that might affect my model\n",
    "- The score of the model can be subjective\n",
    "\n",
    "#### Initial Goals and Success Criteria\n",
    "- Predict either the next word, words, or line of a song based on an text input from the user\n",
    "- Consider using a BLEURT Score as a metric of success - https://medium.com/@jrodthoughts/googles-bleurt-is-bert-for-evaluating-natural-language-generation-models-fa0ce898c38a.\n",
    "- Give the user multiple options for the next word(s), score on the number of accepted recommendations\n",
    "- Rhyme (stretch)\n",
    "- Write an original song with > 50% of the lyrics computer generated\n",
    "\n",
    "#### Initial Data Source and EDA\n",
    "I plan to pull a handful more artists and add them as csvs. With the function below, the biggest hurdle is the amount of time is takes to scrape the large pulls of data, but it is a repeatable process that I could let run during off hours. I have not fully decided if I am going to integrate the Spotify API data, which is why I've tried to pull the `spotify_url` from the songs below. I may be able to look up by the `id` or worst case can use the `artist_name` with the `title` . "
   ]
  },
  {
   "cell_type": "code",
   "execution_count": 2,
   "metadata": {},
   "outputs": [],
   "source": [
    "#Keep my access token secret\n",
    "\n",
    "with open('./token.txt', 'r') as f:\n",
    "    token = f.read().replace('\\n', '')"
   ]
  },
  {
   "cell_type": "code",
   "execution_count": 26,
   "metadata": {},
   "outputs": [],
   "source": [
    "#Credit: https://lyricsgenius.readthedocs.io/en/master/index.html\n",
    "from lyricsgenius import Genius\n",
    "import pandas as pd\n",
    "import numpy as np\n",
    "import json\n",
    "import os\n",
    "import requests\n",
    "from bs4 import BeautifulSoup\n",
    "\n",
    "genius = Genius(token, \n",
    "                sleep_time = 1, #don't overload the servers\n",
    "                remove_section_headers=True, #removes [Chorus], [Bridge], etc. headers from lyrics.\n",
    "                verbose=False) # Do not print out results"
   ]
  },
  {
   "cell_type": "markdown",
   "metadata": {},
   "source": [
    "# Scrape Billboard Top Artist Categories"
   ]
  },
  {
   "cell_type": "code",
   "execution_count": 21,
   "metadata": {},
   "outputs": [],
   "source": [
    "#function will scrape past 3 years of top billboard artists for that genre\n",
    "def get_top_artists(years=['2017','2018','2019'], genre=('folk-artists', 'pop-songs-artists','dance-club-artists')):\n",
    "    \n",
    "    #create empty list to store artists\n",
    "    artists = []\n",
    "    \n",
    "    #loop through each year\n",
    "    for year in years:\n",
    "    \n",
    "        #build the url\n",
    "        url = 'https://www.billboard.com/charts/year-end/'+ year + '/' + genre\n",
    "        res = requests.get(url)\n",
    "        soup = BeautifulSoup(res.content, 'lxml')\n",
    "        \n",
    "        #scrape the top artists\n",
    "        for row in soup.find_all('div', attrs={'class': 'ye-chart-item__title'}):\n",
    "            artists.append((row.find('a').text).replace('\\n','').strip()) #remove extra spaces and new line chars\n",
    "            \n",
    "    return list(set(artists)) #only return unique values"
   ]
  },
  {
   "cell_type": "code",
   "execution_count": 22,
   "metadata": {},
   "outputs": [
    {
     "data": {
      "text/plain": [
       "['Tyler Childers',\n",
       " 'Chris Stapleton',\n",
       " 'John Mayer',\n",
       " 'Hozier',\n",
       " 'Vance Joy',\n",
       " 'Mumford & Sons',\n",
       " 'Neil Young',\n",
       " 'Kacey Musgraves',\n",
       " 'Lord Huron',\n",
       " 'Leon Bridges',\n",
       " 'Jack Johnson',\n",
       " 'James Taylor',\n",
       " 'Ed Sheeran',\n",
       " 'Simon & Garfunkel',\n",
       " 'KALEO',\n",
       " 'The Lumineers']"
      ]
     },
     "execution_count": 22,
     "metadata": {},
     "output_type": "execute_result"
    }
   ],
   "source": [
    "folk_artists = get_top_artists(genre='folk-artists')\n",
    "folk_artists"
   ]
  },
  {
   "cell_type": "code",
   "execution_count": 8,
   "metadata": {},
   "outputs": [
    {
     "data": {
      "text/plain": [
       "['Drake',\n",
       " 'NF',\n",
       " 'Shawn Mendes',\n",
       " 'Panic! At The Disco',\n",
       " 'Selena Gomez',\n",
       " 'Camila Cabello',\n",
       " 'Halsey',\n",
       " 'Bruno Mars',\n",
       " 'Imagine Dragons',\n",
       " 'Lizzo',\n",
       " 'Ed Sheeran',\n",
       " 'Billie Eilish',\n",
       " 'Alessia Cara',\n",
       " 'Dua Lipa',\n",
       " 'The Chainsmokers',\n",
       " 'Ariana Grande',\n",
       " 'Khalid',\n",
       " 'Charlie Puth',\n",
       " 'Maroon 5',\n",
       " 'Niall Horan',\n",
       " 'Jonas Brothers',\n",
       " 'Post Malone']"
      ]
     },
     "execution_count": 8,
     "metadata": {},
     "output_type": "execute_result"
    }
   ],
   "source": [
    "pop_artists = get_top_artists(genre='pop-songs-artists')\n",
    "pop_artists"
   ]
  },
  {
   "cell_type": "code",
   "execution_count": 9,
   "metadata": {},
   "outputs": [
    {
     "data": {
      "text/plain": [
       "['Sabrina Carpenter',\n",
       " 'DNCE',\n",
       " 'Kendra Erika',\n",
       " 'Hilary Roberts',\n",
       " 'Jonas Blue',\n",
       " 'Sia',\n",
       " 'Skylar Stecker',\n",
       " 'Austin Mahone',\n",
       " 'Lisa Williams',\n",
       " 'Calvin Harris',\n",
       " 'Marshmello',\n",
       " 'VASSY',\n",
       " 'Kelly Clarkson',\n",
       " 'Bleona',\n",
       " 'FISHER',\n",
       " 'DJs From Mars',\n",
       " 'Troye Sivan',\n",
       " 'Blondie',\n",
       " 'DJ Snake',\n",
       " 'Sting',\n",
       " 'Halsey',\n",
       " 'Bruno Mars',\n",
       " 'Katy Perry',\n",
       " 'Sam Smith',\n",
       " 'Kristine W',\n",
       " 'David Guetta',\n",
       " 'Ed Sheeran',\n",
       " 'Axwell & Ingrosso',\n",
       " 'J Sutta',\n",
       " 'Barbara Tucker',\n",
       " 'Donna Summer',\n",
       " 'Rihanna',\n",
       " 'R3HAB',\n",
       " 'Dua Lipa',\n",
       " 'Rita Ora',\n",
       " 'Tony Moran',\n",
       " 'Toni Braxton',\n",
       " 'Dirty Werk',\n",
       " 'Ariana Grande',\n",
       " 'Dido',\n",
       " 'Miley Cyrus',\n",
       " 'Diana Ross',\n",
       " 'Clean Bandit',\n",
       " 'Deborah Cox',\n",
       " 'LeAnn Rimes',\n",
       " 'Bebe Rexha',\n",
       " 'Roberto Surace',\n",
       " 'Jack Back',\n",
       " 'Niall Horan',\n",
       " 'Gryffin',\n",
       " 'Gorgon City',\n",
       " 'P!nk',\n",
       " 'Madonna',\n",
       " 'Ava Max',\n",
       " 'Dave Aude',\n",
       " 'Alesso',\n",
       " 'U2',\n",
       " 'Todd Edwards',\n",
       " 'Mark Ronson',\n",
       " 'Ono',\n",
       " 'Fatboy Slim',\n",
       " 'Demi Lovato']"
      ]
     },
     "execution_count": 9,
     "metadata": {},
     "output_type": "execute_result"
    }
   ],
   "source": [
    "dance_artists = get_top_artists(genre='dance-club-artists')\n",
    "dance_artists"
   ]
  },
  {
   "cell_type": "code",
   "execution_count": 34,
   "metadata": {},
   "outputs": [
    {
     "name": "stdout",
     "output_type": "stream",
     "text": [
      "Stored 'folk_artists' (list)\n",
      "Stored 'pop_artists' (list)\n",
      "Stored 'dance_artists' (list)\n"
     ]
    }
   ],
   "source": [
    "### Store to be used in another notebook\n",
    "%store folk_artists\n",
    "%store pop_artists\n",
    "%store dance_artists"
   ]
  },
  {
   "cell_type": "markdown",
   "metadata": {},
   "source": [
    "# Scrape Lyrics from Multiple Artists"
   ]
  },
  {
   "cell_type": "code",
   "execution_count": 29,
   "metadata": {},
   "outputs": [],
   "source": [
    "#Function to scrape lyrics from the Genius API\n",
    "\n",
    "def scrape_lyrics(artist_list):\n",
    "    \n",
    "    for artist in artist_list:\n",
    "        artist_lyrics = genius.search_artist(artist) #grab all of the lyrics from an artist \n",
    "        \n",
    "        #save the output as a json file\n",
    "        genius.save_artists(artists=[artist_lyrics], overwrite=True)"
   ]
  },
  {
   "cell_type": "code",
   "execution_count": 31,
   "metadata": {},
   "outputs": [],
   "source": [
    "#scrape all lyrics for top folk_artists from 2017-2019\n",
    "# scrape_lyrics(folk_artists)"
   ]
  },
  {
   "cell_type": "markdown",
   "metadata": {},
   "source": [
    "# Function to Create Lyrics Dataframe for each artist"
   ]
  },
  {
   "cell_type": "code",
   "execution_count": 2,
   "metadata": {},
   "outputs": [],
   "source": [
    "def get_lyrics(filename):\n",
    "    \n",
    "    # Reading the json as a dict\n",
    "    with open(filename) as json_data:\n",
    "        data = json.load(json_data)\n",
    "\n",
    "    #Source credit: https://stackoverflow.com/questions/28373282/how-to-read-a-json-dictionary-type-file-with-pandas\n",
    "    \n",
    "    #need to account for that every song doesn't have a spotify url\n",
    "    spotify_url = []\n",
    "    for song in range(0,len(data['songs'])): #for each song\n",
    "        if len(data['songs'][song]['media']) > 0: #are there any values in media?\n",
    "\n",
    "            #store a list of providers to later check if spotify is in that list\n",
    "            contains_spotify = [data['songs'][song]['media'][item]['provider'] for item in range(0,len(data['songs'][song]['media']))] \n",
    "\n",
    "            if 'spotify' in contains_spotify: \n",
    "                for item in range(0,len(data['songs'][song]['media'])):  #loop through each item\n",
    "                    if (data['songs'][song]['media'][item]['provider'] == 'spotify'): #find the item that is spotify\n",
    "                        spotify_url.append(data['songs'][song]['media'][item]['url']) #add the url \n",
    "            else:\n",
    "                spotify_url.append('NA')\n",
    "        else:\n",
    "            spotify_url.append('NA')\n",
    "    \n",
    "    #create a dataframe\n",
    "    df =  pd.DataFrame({\n",
    "\n",
    "        #multiply by length of songs in json response to create a new row for each\n",
    "        'artist_name' : [data['name']] * len(data['songs']),                                              #artist name\n",
    "        'image_url' : [data['image_url']] * len(data['songs']),                                           #thumbnail image\n",
    "        'url' : [data['url']] * len(data['songs']),                                                       #genius url\n",
    "\n",
    "        #song data\n",
    "        'title' : [data['songs'][item]['title'] for item in range(0,len(data['songs']))],                 #title of each song\n",
    "        'lyrics' : [data['songs'][item]['lyrics'] for item in range(0,len(data['songs']))],                #song lyrics           \n",
    "        'spotify_url' :  spotify_url, #spotify url\n",
    "\n",
    "\n",
    "    })\n",
    "    return df    "
   ]
  },
  {
   "cell_type": "markdown",
   "metadata": {},
   "source": [
    "### Collect data for each artist"
   ]
  },
  {
   "cell_type": "code",
   "execution_count": 43,
   "metadata": {},
   "outputs": [
    {
     "data": {
      "text/html": [
       "<div>\n",
       "<style scoped>\n",
       "    .dataframe tbody tr th:only-of-type {\n",
       "        vertical-align: middle;\n",
       "    }\n",
       "\n",
       "    .dataframe tbody tr th {\n",
       "        vertical-align: top;\n",
       "    }\n",
       "\n",
       "    .dataframe thead th {\n",
       "        text-align: right;\n",
       "    }\n",
       "</style>\n",
       "<table border=\"1\" class=\"dataframe\">\n",
       "  <thead>\n",
       "    <tr style=\"text-align: right;\">\n",
       "      <th></th>\n",
       "      <th>artist_name</th>\n",
       "      <th>image_url</th>\n",
       "      <th>url</th>\n",
       "      <th>title</th>\n",
       "      <th>lyrics</th>\n",
       "      <th>spotify_url</th>\n",
       "    </tr>\n",
       "  </thead>\n",
       "  <tbody>\n",
       "    <tr>\n",
       "      <th>0</th>\n",
       "      <td>John Mayer</td>\n",
       "      <td>https://images.genius.com/4c443bf06bf6b696ad4f...</td>\n",
       "      <td>https://genius.com/artists/John-mayer</td>\n",
       "      <td>New Light</td>\n",
       "      <td>Ah, ah, ah\\nAh...\\n\\nI'm the boy in your other...</td>\n",
       "      <td>https://open.spotify.com/track/3bH4HzoZZFq8UpZ...</td>\n",
       "    </tr>\n",
       "  </tbody>\n",
       "</table>\n",
       "</div>"
      ],
      "text/plain": [
       "  artist_name                                          image_url  \\\n",
       "0  John Mayer  https://images.genius.com/4c443bf06bf6b696ad4f...   \n",
       "\n",
       "                                     url      title  \\\n",
       "0  https://genius.com/artists/John-mayer  New Light   \n",
       "\n",
       "                                              lyrics  \\\n",
       "0  Ah, ah, ah\\nAh...\\n\\nI'm the boy in your other...   \n",
       "\n",
       "                                         spotify_url  \n",
       "0  https://open.spotify.com/track/3bH4HzoZZFq8UpZ...  "
      ]
     },
     "execution_count": 43,
     "metadata": {},
     "output_type": "execute_result"
    }
   ],
   "source": [
    "john_mayer_df = get_lyrics('Lyrics_JohnMayer.json')\n",
    "john_mayer_df.head(1)"
   ]
  },
  {
   "cell_type": "code",
   "execution_count": 44,
   "metadata": {},
   "outputs": [
    {
     "data": {
      "text/html": [
       "<div>\n",
       "<style scoped>\n",
       "    .dataframe tbody tr th:only-of-type {\n",
       "        vertical-align: middle;\n",
       "    }\n",
       "\n",
       "    .dataframe tbody tr th {\n",
       "        vertical-align: top;\n",
       "    }\n",
       "\n",
       "    .dataframe thead th {\n",
       "        text-align: right;\n",
       "    }\n",
       "</style>\n",
       "<table border=\"1\" class=\"dataframe\">\n",
       "  <thead>\n",
       "    <tr style=\"text-align: right;\">\n",
       "      <th></th>\n",
       "      <th>artist_name</th>\n",
       "      <th>image_url</th>\n",
       "      <th>url</th>\n",
       "      <th>title</th>\n",
       "      <th>lyrics</th>\n",
       "      <th>spotify_url</th>\n",
       "    </tr>\n",
       "  </thead>\n",
       "  <tbody>\n",
       "    <tr>\n",
       "      <th>0</th>\n",
       "      <td>Jack Johnson</td>\n",
       "      <td>https://s3.amazonaws.com/rapgenius/Jack+Johnso...</td>\n",
       "      <td>https://genius.com/artists/Jack-johnson</td>\n",
       "      <td>Banana Pancakes</td>\n",
       "      <td>Can't you see that it's just raining?\\nThere a...</td>\n",
       "      <td>https://open.spotify.com/track/451GvHwY99NKV4z...</td>\n",
       "    </tr>\n",
       "  </tbody>\n",
       "</table>\n",
       "</div>"
      ],
      "text/plain": [
       "    artist_name                                          image_url  \\\n",
       "0  Jack Johnson  https://s3.amazonaws.com/rapgenius/Jack+Johnso...   \n",
       "\n",
       "                                       url            title  \\\n",
       "0  https://genius.com/artists/Jack-johnson  Banana Pancakes   \n",
       "\n",
       "                                              lyrics  \\\n",
       "0  Can't you see that it's just raining?\\nThere a...   \n",
       "\n",
       "                                         spotify_url  \n",
       "0  https://open.spotify.com/track/451GvHwY99NKV4z...  "
      ]
     },
     "execution_count": 44,
     "metadata": {},
     "output_type": "execute_result"
    }
   ],
   "source": [
    "jack_johnson_df = get_lyrics('Lyrics_JackJohnson.json')\n",
    "jack_johnson_df.head(1)"
   ]
  },
  {
   "cell_type": "code",
   "execution_count": 59,
   "metadata": {},
   "outputs": [],
   "source": [
    "# #blank list to store dataframe names\n",
    "# artist_concat = []\n",
    "\n",
    "# #when add more artists can loop through like this in one function\n",
    "# for filename in os.listdir('./'):\n",
    "#     if filename.startswith('Lyrics_'):\n",
    "#         print(filename)\n",
    "\n",
    "# #create a dataframe for each artist\n",
    "\n",
    "# #stack the dataframes\n",
    "# dfs = pd.concat([get_lyrics('Lyrics_JohnMayer.json'), get_lyrics('Lyrics_JackJohnson.json')])\n",
    "\n",
    "# #return stacked dataframe as output"
   ]
  },
  {
   "cell_type": "markdown",
   "metadata": {},
   "source": [
    "# Stack the  Dataframes"
   ]
  },
  {
   "cell_type": "code",
   "execution_count": 47,
   "metadata": {},
   "outputs": [
    {
     "data": {
      "text/html": [
       "<div>\n",
       "<style scoped>\n",
       "    .dataframe tbody tr th:only-of-type {\n",
       "        vertical-align: middle;\n",
       "    }\n",
       "\n",
       "    .dataframe tbody tr th {\n",
       "        vertical-align: top;\n",
       "    }\n",
       "\n",
       "    .dataframe thead th {\n",
       "        text-align: right;\n",
       "    }\n",
       "</style>\n",
       "<table border=\"1\" class=\"dataframe\">\n",
       "  <thead>\n",
       "    <tr style=\"text-align: right;\">\n",
       "      <th></th>\n",
       "      <th>artist_name</th>\n",
       "      <th>image_url</th>\n",
       "      <th>url</th>\n",
       "      <th>title</th>\n",
       "      <th>lyrics</th>\n",
       "      <th>spotify_url</th>\n",
       "    </tr>\n",
       "  </thead>\n",
       "  <tbody>\n",
       "    <tr>\n",
       "      <th>0</th>\n",
       "      <td>John Mayer</td>\n",
       "      <td>https://images.genius.com/4c443bf06bf6b696ad4f...</td>\n",
       "      <td>https://genius.com/artists/John-mayer</td>\n",
       "      <td>New Light</td>\n",
       "      <td>Ah, ah, ah\\nAh...\\n\\nI'm the boy in your other...</td>\n",
       "      <td>https://open.spotify.com/track/3bH4HzoZZFq8UpZ...</td>\n",
       "    </tr>\n",
       "    <tr>\n",
       "      <th>1</th>\n",
       "      <td>John Mayer</td>\n",
       "      <td>https://images.genius.com/4c443bf06bf6b696ad4f...</td>\n",
       "      <td>https://genius.com/artists/John-mayer</td>\n",
       "      <td>Gravity</td>\n",
       "      <td>Gravity is working against me\\nAnd gravity wan...</td>\n",
       "      <td>https://open.spotify.com/track/52K3qt1rCYf3Ciu...</td>\n",
       "    </tr>\n",
       "    <tr>\n",
       "      <th>2</th>\n",
       "      <td>John Mayer</td>\n",
       "      <td>https://images.genius.com/4c443bf06bf6b696ad4f...</td>\n",
       "      <td>https://genius.com/artists/John-mayer</td>\n",
       "      <td>Slow Dancing in a Burning Room</td>\n",
       "      <td>It's not a silly little moment\\nIt's not the s...</td>\n",
       "      <td>https://open.spotify.com/track/3f8Uygfz3CIpUCo...</td>\n",
       "    </tr>\n",
       "    <tr>\n",
       "      <th>3</th>\n",
       "      <td>John Mayer</td>\n",
       "      <td>https://images.genius.com/4c443bf06bf6b696ad4f...</td>\n",
       "      <td>https://genius.com/artists/John-mayer</td>\n",
       "      <td>Free Fallin’</td>\n",
       "      <td>She's a good girl, loves her mama\\nLoves Jesus...</td>\n",
       "      <td>https://open.spotify.com/track/4LloVtxNZpeh7q7...</td>\n",
       "    </tr>\n",
       "    <tr>\n",
       "      <th>4</th>\n",
       "      <td>John Mayer</td>\n",
       "      <td>https://images.genius.com/4c443bf06bf6b696ad4f...</td>\n",
       "      <td>https://genius.com/artists/John-mayer</td>\n",
       "      <td>In the Blood</td>\n",
       "      <td>How much of my mother has my mother left in me...</td>\n",
       "      <td>https://open.spotify.com/track/77Y57qRJBvkGCUw...</td>\n",
       "    </tr>\n",
       "    <tr>\n",
       "      <th>...</th>\n",
       "      <td>...</td>\n",
       "      <td>...</td>\n",
       "      <td>...</td>\n",
       "      <td>...</td>\n",
       "      <td>...</td>\n",
       "      <td>...</td>\n",
       "    </tr>\n",
       "    <tr>\n",
       "      <th>176</th>\n",
       "      <td>Jack Johnson</td>\n",
       "      <td>https://s3.amazonaws.com/rapgenius/Jack+Johnso...</td>\n",
       "      <td>https://genius.com/artists/Jack-johnson</td>\n",
       "      <td>Good people - Live At Bonnaroo, Manchester, Te...</td>\n",
       "      <td>Well, you win, it's your show now\\nSo what's i...</td>\n",
       "      <td>NA</td>\n",
       "    </tr>\n",
       "    <tr>\n",
       "      <th>177</th>\n",
       "      <td>Jack Johnson</td>\n",
       "      <td>https://s3.amazonaws.com/rapgenius/Jack+Johnso...</td>\n",
       "      <td>https://genius.com/artists/Jack-johnson</td>\n",
       "      <td>Constellations - Live at Bonnaroo, Manchester,...</td>\n",
       "      <td>The light was leaving in the west it was blue\\...</td>\n",
       "      <td>NA</td>\n",
       "    </tr>\n",
       "    <tr>\n",
       "      <th>178</th>\n",
       "      <td>Jack Johnson</td>\n",
       "      <td>https://s3.amazonaws.com/rapgenius/Jack+Johnso...</td>\n",
       "      <td>https://genius.com/artists/Jack-johnson</td>\n",
       "      <td>Times Like These - Live In Santa Barbara, Cali...</td>\n",
       "      <td>In times like these\\nIn times like those\\nWhat...</td>\n",
       "      <td>NA</td>\n",
       "    </tr>\n",
       "    <tr>\n",
       "      <th>179</th>\n",
       "      <td>Jack Johnson</td>\n",
       "      <td>https://s3.amazonaws.com/rapgenius/Jack+Johnso...</td>\n",
       "      <td>https://genius.com/artists/Jack-johnson</td>\n",
       "      <td>Secret Heart</td>\n",
       "      <td>Secret Heart, what are you made of?\\nWhat are ...</td>\n",
       "      <td>NA</td>\n",
       "    </tr>\n",
       "    <tr>\n",
       "      <th>180</th>\n",
       "      <td>Jack Johnson</td>\n",
       "      <td>https://s3.amazonaws.com/rapgenius/Jack+Johnso...</td>\n",
       "      <td>https://genius.com/artists/Jack-johnson</td>\n",
       "      <td>Gone - Live In Morrisson, Colorado/2008</td>\n",
       "      <td>One, two\\nWell look at all those fancy clothes...</td>\n",
       "      <td>NA</td>\n",
       "    </tr>\n",
       "  </tbody>\n",
       "</table>\n",
       "<p>415 rows × 6 columns</p>\n",
       "</div>"
      ],
      "text/plain": [
       "      artist_name                                          image_url  \\\n",
       "0      John Mayer  https://images.genius.com/4c443bf06bf6b696ad4f...   \n",
       "1      John Mayer  https://images.genius.com/4c443bf06bf6b696ad4f...   \n",
       "2      John Mayer  https://images.genius.com/4c443bf06bf6b696ad4f...   \n",
       "3      John Mayer  https://images.genius.com/4c443bf06bf6b696ad4f...   \n",
       "4      John Mayer  https://images.genius.com/4c443bf06bf6b696ad4f...   \n",
       "..            ...                                                ...   \n",
       "176  Jack Johnson  https://s3.amazonaws.com/rapgenius/Jack+Johnso...   \n",
       "177  Jack Johnson  https://s3.amazonaws.com/rapgenius/Jack+Johnso...   \n",
       "178  Jack Johnson  https://s3.amazonaws.com/rapgenius/Jack+Johnso...   \n",
       "179  Jack Johnson  https://s3.amazonaws.com/rapgenius/Jack+Johnso...   \n",
       "180  Jack Johnson  https://s3.amazonaws.com/rapgenius/Jack+Johnso...   \n",
       "\n",
       "                                         url  \\\n",
       "0      https://genius.com/artists/John-mayer   \n",
       "1      https://genius.com/artists/John-mayer   \n",
       "2      https://genius.com/artists/John-mayer   \n",
       "3      https://genius.com/artists/John-mayer   \n",
       "4      https://genius.com/artists/John-mayer   \n",
       "..                                       ...   \n",
       "176  https://genius.com/artists/Jack-johnson   \n",
       "177  https://genius.com/artists/Jack-johnson   \n",
       "178  https://genius.com/artists/Jack-johnson   \n",
       "179  https://genius.com/artists/Jack-johnson   \n",
       "180  https://genius.com/artists/Jack-johnson   \n",
       "\n",
       "                                                 title  \\\n",
       "0                                            New Light   \n",
       "1                                              Gravity   \n",
       "2                       Slow Dancing in a Burning Room   \n",
       "3                                         Free Fallin’   \n",
       "4                                         In the Blood   \n",
       "..                                                 ...   \n",
       "176  Good people - Live At Bonnaroo, Manchester, Te...   \n",
       "177  Constellations - Live at Bonnaroo, Manchester,...   \n",
       "178  Times Like These - Live In Santa Barbara, Cali...   \n",
       "179                                       Secret Heart   \n",
       "180            Gone - Live In Morrisson, Colorado/2008   \n",
       "\n",
       "                                                lyrics  \\\n",
       "0    Ah, ah, ah\\nAh...\\n\\nI'm the boy in your other...   \n",
       "1    Gravity is working against me\\nAnd gravity wan...   \n",
       "2    It's not a silly little moment\\nIt's not the s...   \n",
       "3    She's a good girl, loves her mama\\nLoves Jesus...   \n",
       "4    How much of my mother has my mother left in me...   \n",
       "..                                                 ...   \n",
       "176  Well, you win, it's your show now\\nSo what's i...   \n",
       "177  The light was leaving in the west it was blue\\...   \n",
       "178  In times like these\\nIn times like those\\nWhat...   \n",
       "179  Secret Heart, what are you made of?\\nWhat are ...   \n",
       "180  One, two\\nWell look at all those fancy clothes...   \n",
       "\n",
       "                                           spotify_url  \n",
       "0    https://open.spotify.com/track/3bH4HzoZZFq8UpZ...  \n",
       "1    https://open.spotify.com/track/52K3qt1rCYf3Ciu...  \n",
       "2    https://open.spotify.com/track/3f8Uygfz3CIpUCo...  \n",
       "3    https://open.spotify.com/track/4LloVtxNZpeh7q7...  \n",
       "4    https://open.spotify.com/track/77Y57qRJBvkGCUw...  \n",
       "..                                                 ...  \n",
       "176                                                 NA  \n",
       "177                                                 NA  \n",
       "178                                                 NA  \n",
       "179                                                 NA  \n",
       "180                                                 NA  \n",
       "\n",
       "[415 rows x 6 columns]"
      ]
     },
     "execution_count": 47,
     "metadata": {},
     "output_type": "execute_result"
    }
   ],
   "source": [
    "all_songs_df = pd.concat([john_mayer_df,jack_johnson_df])\n",
    "all_songs_df"
   ]
  },
  {
   "cell_type": "markdown",
   "metadata": {},
   "source": [
    "### Remove \"Live Songs\" and \"Covers\" From The Dataframe\n",
    "\n",
    "Live songs are a sign of duplicates and Covers belong to another artist."
   ]
  },
  {
   "cell_type": "code",
   "execution_count": 118,
   "metadata": {},
   "outputs": [],
   "source": [
    "# Remove songs that were performed live\n",
    "all_songs = all_songs_df[~all_songs_df['title'].str.contains('Live in|Live at',case=False, regex=True)] #add Cover)"
   ]
  },
  {
   "cell_type": "code",
   "execution_count": 128,
   "metadata": {},
   "outputs": [],
   "source": [
    "#save as a csv\n",
    "all_songs.to_csv('all_songs.csv', index=False)"
   ]
  },
  {
   "cell_type": "markdown",
   "metadata": {},
   "source": [
    "### Add a column `billboard_genre`"
   ]
  },
  {
   "cell_type": "code",
   "execution_count": 35,
   "metadata": {},
   "outputs": [],
   "source": [
    "#take the data frame and add an extra column using .map"
   ]
  },
  {
   "cell_type": "markdown",
   "metadata": {},
   "source": [
    "### Check Spotify URLs"
   ]
  },
  {
   "cell_type": "code",
   "execution_count": 127,
   "metadata": {},
   "outputs": [
    {
     "name": "stdout",
     "output_type": "stream",
     "text": [
      "Songs without Spotify URL: 224\n",
      "Songs with Spotify URL: 102\n",
      "Percentage without Spotify URL: 0.687\n",
      "Percentage with Spotify URL: 0.313\n"
     ]
    }
   ],
   "source": [
    "#view how many songs don't have a spotify url\n",
    "no_spotify_ct = all_songs[all_songs['spotify_url'] == 'NA'].shape[0]\n",
    "yes_spotify_ct = all_songs[all_songs['spotify_url'] != 'NA'].shape[0]\n",
    "print(f'Songs without Spotify URL: {no_spotify_ct}')\n",
    "print(f'Songs with Spotify URL: {yes_spotify_ct}')\n",
    "print(f'Percentage without Spotify URL: {round(no_spotify_ct / (all_songs.shape[0]),3)}')\n",
    "print(f'Percentage with Spotify URL: {round(yes_spotify_ct / (all_songs.shape[0]),3)}')"
   ]
  },
  {
   "cell_type": "markdown",
   "metadata": {},
   "source": [
    "#### Check the Value Counts of Each Artist"
   ]
  },
  {
   "cell_type": "code",
   "execution_count": 36,
   "metadata": {},
   "outputs": [],
   "source": [
    "# all_songs['artist_name'].value_counts()"
   ]
  },
  {
   "cell_type": "markdown",
   "metadata": {},
   "source": [
    "# Create a Dataframe with all of the lyrics in one cell by artist"
   ]
  },
  {
   "cell_type": "code",
   "execution_count": 129,
   "metadata": {},
   "outputs": [],
   "source": [
    "#create a blank dictionary\n",
    "ly_dict = {}\n",
    "\n",
    "for artist in all_songs['artist_name'].unique():\n",
    "    \n",
    "    ly_dict['artist_name'] = [artist for artist in all_songs['artist_name'].unique()] \n",
    "    ly_dict['lyrics'] = [all_songs[all_songs['artist_name'] == artist]['lyrics'].str.cat(sep=' ') for artist in all_songs['artist_name'].unique()]\n",
    "\n",
    "all_lyrics = pd.DataFrame(ly_dict)"
   ]
  },
  {
   "cell_type": "code",
   "execution_count": 130,
   "metadata": {},
   "outputs": [
    {
     "data": {
      "text/html": [
       "<div>\n",
       "<style scoped>\n",
       "    .dataframe tbody tr th:only-of-type {\n",
       "        vertical-align: middle;\n",
       "    }\n",
       "\n",
       "    .dataframe tbody tr th {\n",
       "        vertical-align: top;\n",
       "    }\n",
       "\n",
       "    .dataframe thead th {\n",
       "        text-align: right;\n",
       "    }\n",
       "</style>\n",
       "<table border=\"1\" class=\"dataframe\">\n",
       "  <thead>\n",
       "    <tr style=\"text-align: right;\">\n",
       "      <th></th>\n",
       "      <th>artist_name</th>\n",
       "      <th>lyrics</th>\n",
       "    </tr>\n",
       "  </thead>\n",
       "  <tbody>\n",
       "    <tr>\n",
       "      <th>0</th>\n",
       "      <td>John Mayer</td>\n",
       "      <td>Ah, ah, ah\\nAh...\\n\\nI'm the boy in your other...</td>\n",
       "    </tr>\n",
       "    <tr>\n",
       "      <th>1</th>\n",
       "      <td>Jack Johnson</td>\n",
       "      <td>Can't you see that it's just raining?\\nThere a...</td>\n",
       "    </tr>\n",
       "  </tbody>\n",
       "</table>\n",
       "</div>"
      ],
      "text/plain": [
       "    artist_name                                             lyrics\n",
       "0    John Mayer  Ah, ah, ah\\nAh...\\n\\nI'm the boy in your other...\n",
       "1  Jack Johnson  Can't you see that it's just raining?\\nThere a..."
      ]
     },
     "execution_count": 130,
     "metadata": {},
     "output_type": "execute_result"
    }
   ],
   "source": [
    "all_lyrics.head()"
   ]
  },
  {
   "cell_type": "markdown",
   "metadata": {},
   "source": [
    "### Save as a CSV"
   ]
  },
  {
   "cell_type": "code",
   "execution_count": 131,
   "metadata": {},
   "outputs": [],
   "source": [
    "#save as a csv\n",
    "all_lyrics.to_csv('all_lyrics.csv', index=False)"
   ]
  },
  {
   "cell_type": "markdown",
   "metadata": {},
   "source": [
    "### MISC"
   ]
  },
  {
   "cell_type": "code",
   "execution_count": 53,
   "metadata": {},
   "outputs": [],
   "source": [
    "# all_songs_df[all_songs_df['artist_name'] == 'John Mayer']['title'].str.cat(sep=' ')"
   ]
  },
  {
   "cell_type": "code",
   "execution_count": 52,
   "metadata": {},
   "outputs": [],
   "source": [
    "# ' '.join(all_songs_df['title'])"
   ]
  },
  {
   "cell_type": "code",
   "execution_count": 98,
   "metadata": {},
   "outputs": [
    {
     "name": "stdout",
     "output_type": "stream",
     "text": [
      "Lyrics_JohnMayer.json\n",
      "Lyrics_JackJohnson.json\n"
     ]
    }
   ],
   "source": [
    "#when add more artists can loop through like this in one function\n",
    "for filename in os.listdir('./'):\n",
    "    if filename.startswith('Lyrics_'):\n",
    "        print(filename)"
   ]
  }
 ],
 "metadata": {
  "kernelspec": {
   "display_name": "Python 3",
   "language": "python",
   "name": "python3"
  },
  "language_info": {
   "codemirror_mode": {
    "name": "ipython",
    "version": 3
   },
   "file_extension": ".py",
   "mimetype": "text/x-python",
   "name": "python",
   "nbconvert_exporter": "python",
   "pygments_lexer": "ipython3",
   "version": "3.7.7"
  }
 },
 "nbformat": 4,
 "nbformat_minor": 4
}
