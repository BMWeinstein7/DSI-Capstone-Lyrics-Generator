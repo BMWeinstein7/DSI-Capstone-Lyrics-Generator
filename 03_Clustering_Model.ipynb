{
 "cells": [
  {
   "cell_type": "markdown",
   "metadata": {},
   "source": [
    "# Clustering Model\n",
    "This notebook contains a clustering model of the artists and song lyrics. \n"
   ]
  },
  {
   "cell_type": "code",
   "execution_count": 244,
   "metadata": {},
   "outputs": [],
   "source": [
    "import pandas as pd\n",
    "import numpy as np\n",
    "import seaborn as sns\n",
    "import matplotlib.pyplot as plt\n",
    "from sklearn.cluster import KMeans\n",
    "from sklearn.feature_extraction.text import CountVectorizer\n",
    "import re\n",
    "from bs4 import BeautifulSoup             \n",
    "import squarify\n",
    "from yellowbrick.cluster import InterclusterDistance"
   ]
  },
  {
   "cell_type": "code",
   "execution_count": 211,
   "metadata": {},
   "outputs": [
    {
     "data": {
      "text/html": [
       "<div>\n",
       "<style scoped>\n",
       "    .dataframe tbody tr th:only-of-type {\n",
       "        vertical-align: middle;\n",
       "    }\n",
       "\n",
       "    .dataframe tbody tr th {\n",
       "        vertical-align: top;\n",
       "    }\n",
       "\n",
       "    .dataframe thead th {\n",
       "        text-align: right;\n",
       "    }\n",
       "</style>\n",
       "<table border=\"1\" class=\"dataframe\">\n",
       "  <thead>\n",
       "    <tr style=\"text-align: right;\">\n",
       "      <th></th>\n",
       "      <th>artist_name</th>\n",
       "      <th>lyrics</th>\n",
       "      <th>billboard_genre</th>\n",
       "      <th>clean_lyrics</th>\n",
       "    </tr>\n",
       "  </thead>\n",
       "  <tbody>\n",
       "    <tr>\n",
       "      <th>0</th>\n",
       "      <td>Selena Gomez</td>\n",
       "      <td>You promised the world and I fell for it\\nI pu...</td>\n",
       "      <td>pop</td>\n",
       "      <td>you promised the world and i fell for it i put...</td>\n",
       "    </tr>\n",
       "    <tr>\n",
       "      <th>1</th>\n",
       "      <td>​The Lumineers</td>\n",
       "      <td>Ah, ah, when I was younger\\nI, I should've kno...</td>\n",
       "      <td>folk_americana</td>\n",
       "      <td>ah ah when i was younger i i should ve known b...</td>\n",
       "    </tr>\n",
       "    <tr>\n",
       "      <th>2</th>\n",
       "      <td>Simon &amp; Garfunkel</td>\n",
       "      <td>Hello darkness, my old friend\\nI've come to ta...</td>\n",
       "      <td>folk_americana</td>\n",
       "      <td>hello darkness my old friend i ve come to talk...</td>\n",
       "    </tr>\n",
       "    <tr>\n",
       "      <th>3</th>\n",
       "      <td>Mumford &amp; Sons</td>\n",
       "      <td>Heto mi halanma\\nMine waddimi yiddema\\nKo ane ...</td>\n",
       "      <td>folk_americana</td>\n",
       "      <td>heto mi halanma mine waddimi yiddema ko ane ta...</td>\n",
       "    </tr>\n",
       "    <tr>\n",
       "      <th>4</th>\n",
       "      <td>Lord Huron</td>\n",
       "      <td>I am not the only traveler\\nWho has not repaid...</td>\n",
       "      <td>folk_americana</td>\n",
       "      <td>i am not the only traveler who has not repaid ...</td>\n",
       "    </tr>\n",
       "  </tbody>\n",
       "</table>\n",
       "</div>"
      ],
      "text/plain": [
       "         artist_name                                             lyrics  \\\n",
       "0       Selena Gomez  You promised the world and I fell for it\\nI pu...   \n",
       "1     ​The Lumineers  Ah, ah, when I was younger\\nI, I should've kno...   \n",
       "2  Simon & Garfunkel  Hello darkness, my old friend\\nI've come to ta...   \n",
       "3     Mumford & Sons  Heto mi halanma\\nMine waddimi yiddema\\nKo ane ...   \n",
       "4         Lord Huron  I am not the only traveler\\nWho has not repaid...   \n",
       "\n",
       "  billboard_genre                                       clean_lyrics  \n",
       "0             pop  you promised the world and i fell for it i put...  \n",
       "1  folk_americana  ah ah when i was younger i i should ve known b...  \n",
       "2  folk_americana  hello darkness my old friend i ve come to talk...  \n",
       "3  folk_americana  heto mi halanma mine waddimi yiddema ko ane ta...  \n",
       "4  folk_americana  i am not the only traveler who has not repaid ...  "
      ]
     },
     "execution_count": 211,
     "metadata": {},
     "output_type": "execute_result"
    }
   ],
   "source": [
    "lyrics = pd.read_csv('./all_lyrics.csv')\n",
    "lyrics.head()"
   ]
  },
  {
   "cell_type": "markdown",
   "metadata": {},
   "source": [
    "### Preprocessing"
   ]
  },
  {
   "cell_type": "code",
   "execution_count": 295,
   "metadata": {},
   "outputs": [],
   "source": [
    "cv = CountVectorizer(stop_words='english', min_df=5)\n",
    "cv.fit(lyrics['clean_lyrics'])\n",
    "\n",
    "lyrics_vec = cv.transform(lyrics['clean_lyrics'])\n",
    "lyrics_df = pd.DataFrame(lyrics_vec.todense(), columns=cv.get_feature_names())"
   ]
  },
  {
   "cell_type": "markdown",
   "metadata": {},
   "source": [
    "# Use K-means to cluster"
   ]
  },
  {
   "cell_type": "code",
   "execution_count": 331,
   "metadata": {},
   "outputs": [
    {
     "data": {
      "text/plain": [
       "KMeans(n_clusters=5)"
      ]
     },
     "execution_count": 331,
     "metadata": {},
     "output_type": "execute_result"
    }
   ],
   "source": [
    "#intstantiate model\n",
    "km = KMeans(n_clusters=5)\n",
    "km.fit(lyrics_vec)"
   ]
  },
  {
   "cell_type": "code",
   "execution_count": 332,
   "metadata": {},
   "outputs": [
    {
     "data": {
      "text/plain": [
       "array([[ 0.64705882,  0.17647059,  0.11764706, ...,  0.29411765,\n",
       "         0.17647059,  0.17647059],\n",
       "       [ 0.        ,  0.        ,  1.        , ...,  2.        ,\n",
       "         5.        , 21.        ],\n",
       "       [ 2.        ,  0.33333333,  0.        , ...,  0.66666667,\n",
       "         1.66666667,  3.66666667],\n",
       "       [ 1.66666667,  0.        ,  1.        , ...,  4.33333333,\n",
       "         0.        ,  3.        ],\n",
       "       [ 0.        ,  0.15384615,  0.07692308, ...,  1.07692308,\n",
       "         0.        ,  0.76923077]])"
      ]
     },
     "execution_count": 332,
     "metadata": {},
     "output_type": "execute_result"
    }
   ],
   "source": [
    "km.cluster_centers_"
   ]
  },
  {
   "cell_type": "code",
   "execution_count": 333,
   "metadata": {},
   "outputs": [
    {
     "data": {
      "text/plain": [
       "array([4, 0, 0, 0, 0, 0, 0, 4, 3, 0, 4, 4, 4, 0, 2, 0, 0, 4, 4, 4, 2, 0,\n",
       "       0, 0, 3, 2, 4, 0, 1, 4, 4, 4, 0, 0, 3, 0, 4], dtype=int32)"
      ]
     },
     "execution_count": 333,
     "metadata": {},
     "output_type": "execute_result"
    }
   ],
   "source": [
    "km.labels_"
   ]
  },
  {
   "cell_type": "code",
   "execution_count": 334,
   "metadata": {},
   "outputs": [],
   "source": [
    "lyrics['cluster'] = km.labels_"
   ]
  },
  {
   "cell_type": "code",
   "execution_count": 335,
   "metadata": {},
   "outputs": [
    {
     "data": {
      "text/html": [
       "<div>\n",
       "<style scoped>\n",
       "    .dataframe tbody tr th:only-of-type {\n",
       "        vertical-align: middle;\n",
       "    }\n",
       "\n",
       "    .dataframe tbody tr th {\n",
       "        vertical-align: top;\n",
       "    }\n",
       "\n",
       "    .dataframe thead th {\n",
       "        text-align: right;\n",
       "    }\n",
       "</style>\n",
       "<table border=\"1\" class=\"dataframe\">\n",
       "  <thead>\n",
       "    <tr style=\"text-align: right;\">\n",
       "      <th></th>\n",
       "      <th>artist_name</th>\n",
       "      <th>lyrics</th>\n",
       "      <th>billboard_genre</th>\n",
       "      <th>clean_lyrics</th>\n",
       "      <th>cluster</th>\n",
       "    </tr>\n",
       "  </thead>\n",
       "  <tbody>\n",
       "    <tr>\n",
       "      <th>13</th>\n",
       "      <td>Kacey Musgraves</td>\n",
       "      <td>When it rains, it pours\\nBut you didn't even n...</td>\n",
       "      <td>folk_americana</td>\n",
       "      <td>when it rains it pours but you didn t even not...</td>\n",
       "      <td>0</td>\n",
       "    </tr>\n",
       "    <tr>\n",
       "      <th>23</th>\n",
       "      <td>Lizzo</td>\n",
       "      <td>Why men great 'til they gotta be great?\\nWoo!\\...</td>\n",
       "      <td>pop</td>\n",
       "      <td>why men great til they gotta be great woo i ju...</td>\n",
       "      <td>0</td>\n",
       "    </tr>\n",
       "    <tr>\n",
       "      <th>22</th>\n",
       "      <td>John Mayer</td>\n",
       "      <td>Ah, ah, ah\\nAh...\\n\\nI'm the boy in your other...</td>\n",
       "      <td>folk_americana</td>\n",
       "      <td>ah ah ah ah i m the boy in your other phone li...</td>\n",
       "      <td>0</td>\n",
       "    </tr>\n",
       "    <tr>\n",
       "      <th>21</th>\n",
       "      <td>Chris Stapleton</td>\n",
       "      <td>Used to spend my nights out in a barroom\\nLiqu...</td>\n",
       "      <td>folk_americana</td>\n",
       "      <td>used to spend my nights out in a barroom liquo...</td>\n",
       "      <td>0</td>\n",
       "    </tr>\n",
       "    <tr>\n",
       "      <th>35</th>\n",
       "      <td>Jack Johnson</td>\n",
       "      <td>Can't you see that it's just raining?\\nThere a...</td>\n",
       "      <td>folk_americana</td>\n",
       "      <td>can t you see that it s just raining there ain...</td>\n",
       "      <td>0</td>\n",
       "    </tr>\n",
       "    <tr>\n",
       "      <th>16</th>\n",
       "      <td>Hozier</td>\n",
       "      <td>My lover's got humor\\nShe's the giggle at a fu...</td>\n",
       "      <td>folk_americana</td>\n",
       "      <td>my lover s got humor she s the giggle at a fun...</td>\n",
       "      <td>0</td>\n",
       "    </tr>\n",
       "    <tr>\n",
       "      <th>15</th>\n",
       "      <td>Leon Bridges</td>\n",
       "      <td>Been travelling these wide roads\\nFor so long\\...</td>\n",
       "      <td>folk_americana</td>\n",
       "      <td>been travelling these wide roads for so long m...</td>\n",
       "      <td>0</td>\n",
       "    </tr>\n",
       "    <tr>\n",
       "      <th>32</th>\n",
       "      <td>KALEO</td>\n",
       "      <td>Oh, father, tell me, do we get what we deserve...</td>\n",
       "      <td>folk_americana</td>\n",
       "      <td>oh father tell me do we get what we deserve oh...</td>\n",
       "      <td>0</td>\n",
       "    </tr>\n",
       "    <tr>\n",
       "      <th>33</th>\n",
       "      <td>Tyler Childers</td>\n",
       "      <td>Well my buckle makes impressions\\nOn the insid...</td>\n",
       "      <td>folk_americana</td>\n",
       "      <td>well my buckle makes impressions on the inside...</td>\n",
       "      <td>0</td>\n",
       "    </tr>\n",
       "    <tr>\n",
       "      <th>27</th>\n",
       "      <td>Khalid</td>\n",
       "      <td>So you're still thinking of me\\nJust like I kn...</td>\n",
       "      <td>pop</td>\n",
       "      <td>so you re still thinking of me just like i kno...</td>\n",
       "      <td>0</td>\n",
       "    </tr>\n",
       "    <tr>\n",
       "      <th>4</th>\n",
       "      <td>Lord Huron</td>\n",
       "      <td>I am not the only traveler\\nWho has not repaid...</td>\n",
       "      <td>folk_americana</td>\n",
       "      <td>i am not the only traveler who has not repaid ...</td>\n",
       "      <td>0</td>\n",
       "    </tr>\n",
       "    <tr>\n",
       "      <th>6</th>\n",
       "      <td>Vance Joy</td>\n",
       "      <td>I was scared of dentists and the dark\\nI was s...</td>\n",
       "      <td>folk_americana</td>\n",
       "      <td>i was scared of dentists and the dark i was sc...</td>\n",
       "      <td>0</td>\n",
       "    </tr>\n",
       "    <tr>\n",
       "      <th>5</th>\n",
       "      <td>Billie Eilish</td>\n",
       "      <td>Don't you know I'm no good for you?\\nI've lear...</td>\n",
       "      <td>pop</td>\n",
       "      <td>don t you know i m no good for you i ve learne...</td>\n",
       "      <td>0</td>\n",
       "    </tr>\n",
       "    <tr>\n",
       "      <th>1</th>\n",
       "      <td>​The Lumineers</td>\n",
       "      <td>Ah, ah, when I was younger\\nI, I should've kno...</td>\n",
       "      <td>folk_americana</td>\n",
       "      <td>ah ah when i was younger i i should ve known b...</td>\n",
       "      <td>0</td>\n",
       "    </tr>\n",
       "    <tr>\n",
       "      <th>9</th>\n",
       "      <td>Niall Horan</td>\n",
       "      <td>(Woo)\\n\\nWe should take this back to my place\\...</td>\n",
       "      <td>pop</td>\n",
       "      <td>woo we should take this back to my place that ...</td>\n",
       "      <td>0</td>\n",
       "    </tr>\n",
       "    <tr>\n",
       "      <th>2</th>\n",
       "      <td>Simon &amp; Garfunkel</td>\n",
       "      <td>Hello darkness, my old friend\\nI've come to ta...</td>\n",
       "      <td>folk_americana</td>\n",
       "      <td>hello darkness my old friend i ve come to talk...</td>\n",
       "      <td>0</td>\n",
       "    </tr>\n",
       "    <tr>\n",
       "      <th>3</th>\n",
       "      <td>Mumford &amp; Sons</td>\n",
       "      <td>Heto mi halanma\\nMine waddimi yiddema\\nKo ane ...</td>\n",
       "      <td>folk_americana</td>\n",
       "      <td>heto mi halanma mine waddimi yiddema ko ane ta...</td>\n",
       "      <td>0</td>\n",
       "    </tr>\n",
       "    <tr>\n",
       "      <th>28</th>\n",
       "      <td>Drake</td>\n",
       "      <td>And they wishin' and wishin' and wishin' and w...</td>\n",
       "      <td>pop</td>\n",
       "      <td>and they wishin and wishin and wishin and wish...</td>\n",
       "      <td>1</td>\n",
       "    </tr>\n",
       "    <tr>\n",
       "      <th>25</th>\n",
       "      <td>Maroon 5</td>\n",
       "      <td>Spent 24 hours\\nI need more hours with you\\nYo...</td>\n",
       "      <td>pop</td>\n",
       "      <td>spent hours i need more hours with you you spe...</td>\n",
       "      <td>2</td>\n",
       "    </tr>\n",
       "    <tr>\n",
       "      <th>14</th>\n",
       "      <td>Post Malone</td>\n",
       "      <td>Hahahahaha\\nTank God\\nAyy, ayy\\n\\nI've been fu...</td>\n",
       "      <td>pop</td>\n",
       "      <td>hahahahaha tank god ayy ayy i ve been fuckin h...</td>\n",
       "      <td>2</td>\n",
       "    </tr>\n",
       "    <tr>\n",
       "      <th>20</th>\n",
       "      <td>NF</td>\n",
       "      <td>Feels like we're on the edge right now\\nI wish...</td>\n",
       "      <td>pop</td>\n",
       "      <td>feels like we re on the edge right now i wish ...</td>\n",
       "      <td>2</td>\n",
       "    </tr>\n",
       "    <tr>\n",
       "      <th>24</th>\n",
       "      <td>Dua Lipa</td>\n",
       "      <td>One, one, one, one, one\\n\\nTalkin' in my sleep...</td>\n",
       "      <td>pop</td>\n",
       "      <td>one one one one one talkin in my sleep at nigh...</td>\n",
       "      <td>3</td>\n",
       "    </tr>\n",
       "    <tr>\n",
       "      <th>8</th>\n",
       "      <td>Ariana Grande</td>\n",
       "      <td>Thought I'd end up with Sean\\nBut he wasn't a ...</td>\n",
       "      <td>pop</td>\n",
       "      <td>thought i d end up with sean but he wasn t a m...</td>\n",
       "      <td>3</td>\n",
       "    </tr>\n",
       "    <tr>\n",
       "      <th>34</th>\n",
       "      <td>Ed Sheeran</td>\n",
       "      <td>The club isn't the best place to find a lover\\...</td>\n",
       "      <td>pop</td>\n",
       "      <td>the club isn t the best place to find a lover ...</td>\n",
       "      <td>3</td>\n",
       "    </tr>\n",
       "    <tr>\n",
       "      <th>30</th>\n",
       "      <td>Bruno Mars</td>\n",
       "      <td>Hey, hey, hey\\nI got a condo in Manhattan\\nBab...</td>\n",
       "      <td>pop</td>\n",
       "      <td>hey hey hey i got a condo in manhattan baby gi...</td>\n",
       "      <td>4</td>\n",
       "    </tr>\n",
       "    <tr>\n",
       "      <th>31</th>\n",
       "      <td>Charlie Puth</td>\n",
       "      <td>Woah-oh, hm-hmm\\n\\nYou've been runnin' 'round,...</td>\n",
       "      <td>pop</td>\n",
       "      <td>woah oh hm hmm you ve been runnin round runnin...</td>\n",
       "      <td>4</td>\n",
       "    </tr>\n",
       "    <tr>\n",
       "      <th>29</th>\n",
       "      <td>Halsey</td>\n",
       "      <td>Found you when your heart was broke\\nI filled ...</td>\n",
       "      <td>pop</td>\n",
       "      <td>found you when your heart was broke i filled y...</td>\n",
       "      <td>4</td>\n",
       "    </tr>\n",
       "    <tr>\n",
       "      <th>0</th>\n",
       "      <td>Selena Gomez</td>\n",
       "      <td>You promised the world and I fell for it\\nI pu...</td>\n",
       "      <td>pop</td>\n",
       "      <td>you promised the world and i fell for it i put...</td>\n",
       "      <td>4</td>\n",
       "    </tr>\n",
       "    <tr>\n",
       "      <th>18</th>\n",
       "      <td>Panic! at the Disco</td>\n",
       "      <td>High, high hopes\\n\\nHad to have high, high hop...</td>\n",
       "      <td>pop</td>\n",
       "      <td>high high hopes had to have high high hopes fo...</td>\n",
       "      <td>4</td>\n",
       "    </tr>\n",
       "    <tr>\n",
       "      <th>19</th>\n",
       "      <td>Alessia Cara</td>\n",
       "      <td>I guess right now you've got the last laugh\\n\\...</td>\n",
       "      <td>pop</td>\n",
       "      <td>i guess right now you ve got the last laugh i ...</td>\n",
       "      <td>4</td>\n",
       "    </tr>\n",
       "    <tr>\n",
       "      <th>17</th>\n",
       "      <td>Camila Cabello</td>\n",
       "      <td>Hey\\n\\nHavana, ooh na-na (Ayy)\\nHalf of my hea...</td>\n",
       "      <td>pop</td>\n",
       "      <td>hey havana ooh na na ayy half of my heart is i...</td>\n",
       "      <td>4</td>\n",
       "    </tr>\n",
       "    <tr>\n",
       "      <th>12</th>\n",
       "      <td>Imagine Dragons</td>\n",
       "      <td>First things first\\nI'ma say all the words ins...</td>\n",
       "      <td>pop</td>\n",
       "      <td>first things first i ma say all the words insi...</td>\n",
       "      <td>4</td>\n",
       "    </tr>\n",
       "    <tr>\n",
       "      <th>11</th>\n",
       "      <td>The Chainsmokers</td>\n",
       "      <td>Hey, I was doing just fine before I met you\\nI...</td>\n",
       "      <td>pop</td>\n",
       "      <td>hey i was doing just fine before i met you i d...</td>\n",
       "      <td>4</td>\n",
       "    </tr>\n",
       "    <tr>\n",
       "      <th>10</th>\n",
       "      <td>Shawn Mendes</td>\n",
       "      <td>I wanna follow where she goes\\nI think about h...</td>\n",
       "      <td>pop</td>\n",
       "      <td>i wanna follow where she goes i think about he...</td>\n",
       "      <td>4</td>\n",
       "    </tr>\n",
       "    <tr>\n",
       "      <th>7</th>\n",
       "      <td>Neil Young</td>\n",
       "      <td>Old man, look at my life\\nI'm a lot like you w...</td>\n",
       "      <td>folk_americana</td>\n",
       "      <td>old man look at my life i m a lot like you wer...</td>\n",
       "      <td>4</td>\n",
       "    </tr>\n",
       "    <tr>\n",
       "      <th>26</th>\n",
       "      <td>James Taylor</td>\n",
       "      <td>Just yesterday morning, they let me know you w...</td>\n",
       "      <td>folk_americana</td>\n",
       "      <td>just yesterday morning they let me know you we...</td>\n",
       "      <td>4</td>\n",
       "    </tr>\n",
       "    <tr>\n",
       "      <th>36</th>\n",
       "      <td>Jonas Brothers</td>\n",
       "      <td>We go together\\nBetter than birds of a feather...</td>\n",
       "      <td>pop</td>\n",
       "      <td>we go together better than birds of a feather ...</td>\n",
       "      <td>4</td>\n",
       "    </tr>\n",
       "  </tbody>\n",
       "</table>\n",
       "</div>"
      ],
      "text/plain": [
       "            artist_name                                             lyrics  \\\n",
       "13      Kacey Musgraves  When it rains, it pours\\nBut you didn't even n...   \n",
       "23                Lizzo  Why men great 'til they gotta be great?\\nWoo!\\...   \n",
       "22           John Mayer  Ah, ah, ah\\nAh...\\n\\nI'm the boy in your other...   \n",
       "21      Chris Stapleton  Used to spend my nights out in a barroom\\nLiqu...   \n",
       "35         Jack Johnson  Can't you see that it's just raining?\\nThere a...   \n",
       "16               Hozier  My lover's got humor\\nShe's the giggle at a fu...   \n",
       "15         Leon Bridges  Been travelling these wide roads\\nFor so long\\...   \n",
       "32                KALEO  Oh, father, tell me, do we get what we deserve...   \n",
       "33       Tyler Childers  Well my buckle makes impressions\\nOn the insid...   \n",
       "27               Khalid  So you're still thinking of me\\nJust like I kn...   \n",
       "4            Lord Huron  I am not the only traveler\\nWho has not repaid...   \n",
       "6             Vance Joy  I was scared of dentists and the dark\\nI was s...   \n",
       "5         Billie Eilish  Don't you know I'm no good for you?\\nI've lear...   \n",
       "1        ​The Lumineers  Ah, ah, when I was younger\\nI, I should've kno...   \n",
       "9           Niall Horan  (Woo)\\n\\nWe should take this back to my place\\...   \n",
       "2     Simon & Garfunkel  Hello darkness, my old friend\\nI've come to ta...   \n",
       "3        Mumford & Sons  Heto mi halanma\\nMine waddimi yiddema\\nKo ane ...   \n",
       "28                Drake  And they wishin' and wishin' and wishin' and w...   \n",
       "25             Maroon 5  Spent 24 hours\\nI need more hours with you\\nYo...   \n",
       "14          Post Malone  Hahahahaha\\nTank God\\nAyy, ayy\\n\\nI've been fu...   \n",
       "20                   NF  Feels like we're on the edge right now\\nI wish...   \n",
       "24             Dua Lipa  One, one, one, one, one\\n\\nTalkin' in my sleep...   \n",
       "8         Ariana Grande  Thought I'd end up with Sean\\nBut he wasn't a ...   \n",
       "34           Ed Sheeran  The club isn't the best place to find a lover\\...   \n",
       "30           Bruno Mars  Hey, hey, hey\\nI got a condo in Manhattan\\nBab...   \n",
       "31         Charlie Puth  Woah-oh, hm-hmm\\n\\nYou've been runnin' 'round,...   \n",
       "29               Halsey  Found you when your heart was broke\\nI filled ...   \n",
       "0          Selena Gomez  You promised the world and I fell for it\\nI pu...   \n",
       "18  Panic! at the Disco  High, high hopes\\n\\nHad to have high, high hop...   \n",
       "19         Alessia Cara  I guess right now you've got the last laugh\\n\\...   \n",
       "17       Camila Cabello  Hey\\n\\nHavana, ooh na-na (Ayy)\\nHalf of my hea...   \n",
       "12      Imagine Dragons  First things first\\nI'ma say all the words ins...   \n",
       "11     The Chainsmokers  Hey, I was doing just fine before I met you\\nI...   \n",
       "10         Shawn Mendes  I wanna follow where she goes\\nI think about h...   \n",
       "7            Neil Young  Old man, look at my life\\nI'm a lot like you w...   \n",
       "26         James Taylor  Just yesterday morning, they let me know you w...   \n",
       "36       Jonas Brothers  We go together\\nBetter than birds of a feather...   \n",
       "\n",
       "   billboard_genre                                       clean_lyrics  cluster  \n",
       "13  folk_americana  when it rains it pours but you didn t even not...        0  \n",
       "23             pop  why men great til they gotta be great woo i ju...        0  \n",
       "22  folk_americana  ah ah ah ah i m the boy in your other phone li...        0  \n",
       "21  folk_americana  used to spend my nights out in a barroom liquo...        0  \n",
       "35  folk_americana  can t you see that it s just raining there ain...        0  \n",
       "16  folk_americana  my lover s got humor she s the giggle at a fun...        0  \n",
       "15  folk_americana  been travelling these wide roads for so long m...        0  \n",
       "32  folk_americana  oh father tell me do we get what we deserve oh...        0  \n",
       "33  folk_americana  well my buckle makes impressions on the inside...        0  \n",
       "27             pop  so you re still thinking of me just like i kno...        0  \n",
       "4   folk_americana  i am not the only traveler who has not repaid ...        0  \n",
       "6   folk_americana  i was scared of dentists and the dark i was sc...        0  \n",
       "5              pop  don t you know i m no good for you i ve learne...        0  \n",
       "1   folk_americana  ah ah when i was younger i i should ve known b...        0  \n",
       "9              pop  woo we should take this back to my place that ...        0  \n",
       "2   folk_americana  hello darkness my old friend i ve come to talk...        0  \n",
       "3   folk_americana  heto mi halanma mine waddimi yiddema ko ane ta...        0  \n",
       "28             pop  and they wishin and wishin and wishin and wish...        1  \n",
       "25             pop  spent hours i need more hours with you you spe...        2  \n",
       "14             pop  hahahahaha tank god ayy ayy i ve been fuckin h...        2  \n",
       "20             pop  feels like we re on the edge right now i wish ...        2  \n",
       "24             pop  one one one one one talkin in my sleep at nigh...        3  \n",
       "8              pop  thought i d end up with sean but he wasn t a m...        3  \n",
       "34             pop  the club isn t the best place to find a lover ...        3  \n",
       "30             pop  hey hey hey i got a condo in manhattan baby gi...        4  \n",
       "31             pop  woah oh hm hmm you ve been runnin round runnin...        4  \n",
       "29             pop  found you when your heart was broke i filled y...        4  \n",
       "0              pop  you promised the world and i fell for it i put...        4  \n",
       "18             pop  high high hopes had to have high high hopes fo...        4  \n",
       "19             pop  i guess right now you ve got the last laugh i ...        4  \n",
       "17             pop  hey havana ooh na na ayy half of my heart is i...        4  \n",
       "12             pop  first things first i ma say all the words insi...        4  \n",
       "11             pop  hey i was doing just fine before i met you i d...        4  \n",
       "10             pop  i wanna follow where she goes i think about he...        4  \n",
       "7   folk_americana  old man look at my life i m a lot like you wer...        4  \n",
       "26  folk_americana  just yesterday morning they let me know you we...        4  \n",
       "36             pop  we go together better than birds of a feather ...        4  "
      ]
     },
     "execution_count": 335,
     "metadata": {},
     "output_type": "execute_result"
    }
   ],
   "source": [
    "lyrics.sort_values('cluster')"
   ]
  },
  {
   "cell_type": "markdown",
   "metadata": {},
   "source": [
    "# How close are the clusters?\n",
    "Intercluster distance maps display an embedding of the cluster centers in 2 dimensions with the distance to other centers preserved. E.g. the closer to centers are in the visualization, the closer they are in the original feature space. The clusters are sized according to a scoring metric. By default, they are sized by membership, e.g. the number of instances that belong to each center. This gives a sense of the relative importance of clusters. Note however, that because two clusters overlap in the 2D space, it does not imply that they overlap in the original feature space.\n",
    "\n",
    "Source: https://www.scikit-yb.org/en/latest/api/cluster/icdm.html?highlight=intercluster"
   ]
  },
  {
   "cell_type": "code",
   "execution_count": 336,
   "metadata": {},
   "outputs": [
    {
     "data": {
      "image/png": "[encoded data removed]",
      "text/plain": [
       "<Figure size 576x396 with 2 Axes>"
      ]
     },
     "metadata": {},
     "output_type": "display_data"
    }
   ],
   "source": [
    "# Instantiate the clustering model and visualizer\n",
    "visualizer = InterclusterDistance(km)\n",
    "\n",
    "visualizer.fit(lyrics)        # Fit the data to the visualizer\n",
    "visualizer.show();        # Finalize and render the figure\n"
   ]
  },
  {
   "cell_type": "markdown",
   "metadata": {},
   "source": [
    "From here we can see Drake (1) is vastly different from the rest of the artists."
   ]
  },
  {
   "cell_type": "markdown",
   "metadata": {},
   "source": [
    "# How similar are the lyrics of the top artists for each genre?"
   ]
  },
  {
   "cell_type": "code",
   "execution_count": 360,
   "metadata": {},
   "outputs": [],
   "source": [
    "def plot_clusters_artists(genre, genre_title):\n",
    "    df = pd.DataFrame(lyrics[lyrics['billboard_genre'] == genre][['cluster']].value_counts(normalize=True).reset_index())\n",
    "    \n",
    "    squarify.plot(sizes=df[0], label=df['cluster'], alpha=.7,color=['lightcyan','lightgreen','yellow','grey','orange'])\n",
    "    plt.axis('off')\n",
    "    plt.title(f'Percentage of Clusters for {genre_title} Artists', size=16)\n",
    "    plt.show()\n",
    "\n",
    "    return None"
   ]
  },
  {
   "cell_type": "code",
   "execution_count": 361,
   "metadata": {},
   "outputs": [
    {
     "data": {
      "image/png": "[encoded data removed]",
      "text/plain": [
       "<Figure size 576x396 with 1 Axes>"
      ]
     },
     "metadata": {},
     "output_type": "display_data"
    },
    {
     "data": {
      "text/plain": [
       "<Figure size 576x396 with 0 Axes>"
      ]
     },
     "metadata": {},
     "output_type": "display_data"
    }
   ],
   "source": [
    "plot_clusters_artists('pop','Pop')\n",
    "plt.savefig('./imgs/pop_cluster.jpeg',bbox_inches='tight');"
   ]
  },
  {
   "cell_type": "code",
   "execution_count": 362,
   "metadata": {},
   "outputs": [
    {
     "data": {
      "image/png": "[encoded data removed]",
      "text/plain": [
       "<Figure size 576x396 with 1 Axes>"
      ]
     },
     "metadata": {},
     "output_type": "display_data"
    },
    {
     "data": {
      "text/plain": [
       "<Figure size 576x396 with 0 Axes>"
      ]
     },
     "metadata": {},
     "output_type": "display_data"
    }
   ],
   "source": [
    "plot_clusters_artists('folk_americana', 'Folk/Americana')\n",
    "plt.savefig('./imgs/folk_cluster.jpeg',bbox_inches='tight');"
   ]
  },
  {
   "cell_type": "markdown",
   "metadata": {},
   "source": [
    "# Cluster John Mayer's songs"
   ]
  },
  {
   "cell_type": "code",
   "execution_count": 341,
   "metadata": {},
   "outputs": [],
   "source": [
    "songs = pd.read_csv('./all_songs.csv')"
   ]
  },
  {
   "cell_type": "code",
   "execution_count": 342,
   "metadata": {},
   "outputs": [
    {
     "data": {
      "text/html": [
       "<div>\n",
       "<style scoped>\n",
       "    .dataframe tbody tr th:only-of-type {\n",
       "        vertical-align: middle;\n",
       "    }\n",
       "\n",
       "    .dataframe tbody tr th {\n",
       "        vertical-align: top;\n",
       "    }\n",
       "\n",
       "    .dataframe thead th {\n",
       "        text-align: right;\n",
       "    }\n",
       "</style>\n",
       "<table border=\"1\" class=\"dataframe\">\n",
       "  <thead>\n",
       "    <tr style=\"text-align: right;\">\n",
       "      <th></th>\n",
       "      <th>artist_name</th>\n",
       "      <th>image_url</th>\n",
       "      <th>url</th>\n",
       "      <th>title</th>\n",
       "      <th>lyrics</th>\n",
       "      <th>spotify_url</th>\n",
       "      <th>billboard_genre</th>\n",
       "      <th>clean_lyrics</th>\n",
       "    </tr>\n",
       "  </thead>\n",
       "  <tbody>\n",
       "    <tr>\n",
       "      <th>2730</th>\n",
       "      <td>John Mayer</td>\n",
       "      <td>https://images.genius.com/4c443bf06bf6b696ad4f...</td>\n",
       "      <td>https://genius.com/artists/John-mayer</td>\n",
       "      <td>New Light</td>\n",
       "      <td>Ah, ah, ah\\nAh...\\n\\nI'm the boy in your other...</td>\n",
       "      <td>https://open.spotify.com/track/3bH4HzoZZFq8UpZ...</td>\n",
       "      <td>folk_americana</td>\n",
       "      <td>ah ah ah ah i m the boy in your other phone li...</td>\n",
       "    </tr>\n",
       "    <tr>\n",
       "      <th>2731</th>\n",
       "      <td>John Mayer</td>\n",
       "      <td>https://images.genius.com/4c443bf06bf6b696ad4f...</td>\n",
       "      <td>https://genius.com/artists/John-mayer</td>\n",
       "      <td>Gravity</td>\n",
       "      <td>Gravity is working against me\\nAnd gravity wan...</td>\n",
       "      <td>https://open.spotify.com/track/52K3qt1rCYf3Ciu...</td>\n",
       "      <td>folk_americana</td>\n",
       "      <td>gravity is working against me and gravity want...</td>\n",
       "    </tr>\n",
       "    <tr>\n",
       "      <th>2732</th>\n",
       "      <td>John Mayer</td>\n",
       "      <td>https://images.genius.com/4c443bf06bf6b696ad4f...</td>\n",
       "      <td>https://genius.com/artists/John-mayer</td>\n",
       "      <td>Slow Dancing in a Burning Room</td>\n",
       "      <td>It's not a silly little moment\\nIt's not the s...</td>\n",
       "      <td>https://open.spotify.com/track/3f8Uygfz3CIpUCo...</td>\n",
       "      <td>folk_americana</td>\n",
       "      <td>it s not a silly little moment it s not the st...</td>\n",
       "    </tr>\n",
       "    <tr>\n",
       "      <th>2733</th>\n",
       "      <td>John Mayer</td>\n",
       "      <td>https://images.genius.com/4c443bf06bf6b696ad4f...</td>\n",
       "      <td>https://genius.com/artists/John-mayer</td>\n",
       "      <td>Free Fallin’</td>\n",
       "      <td>She's a good girl, loves her mama\\nLoves Jesus...</td>\n",
       "      <td>https://open.spotify.com/track/4LloVtxNZpeh7q7...</td>\n",
       "      <td>folk_americana</td>\n",
       "      <td>she s a good girl loves her mama loves jesus a...</td>\n",
       "    </tr>\n",
       "    <tr>\n",
       "      <th>2734</th>\n",
       "      <td>John Mayer</td>\n",
       "      <td>https://images.genius.com/4c443bf06bf6b696ad4f...</td>\n",
       "      <td>https://genius.com/artists/John-mayer</td>\n",
       "      <td>In the Blood</td>\n",
       "      <td>How much of my mother has my mother left in me...</td>\n",
       "      <td>https://open.spotify.com/track/77Y57qRJBvkGCUw...</td>\n",
       "      <td>folk_americana</td>\n",
       "      <td>how much of my mother has my mother left in me...</td>\n",
       "    </tr>\n",
       "  </tbody>\n",
       "</table>\n",
       "</div>"
      ],
      "text/plain": [
       "     artist_name                                          image_url  \\\n",
       "2730  John Mayer  https://images.genius.com/4c443bf06bf6b696ad4f...   \n",
       "2731  John Mayer  https://images.genius.com/4c443bf06bf6b696ad4f...   \n",
       "2732  John Mayer  https://images.genius.com/4c443bf06bf6b696ad4f...   \n",
       "2733  John Mayer  https://images.genius.com/4c443bf06bf6b696ad4f...   \n",
       "2734  John Mayer  https://images.genius.com/4c443bf06bf6b696ad4f...   \n",
       "\n",
       "                                        url                           title  \\\n",
       "2730  https://genius.com/artists/John-mayer                       New Light   \n",
       "2731  https://genius.com/artists/John-mayer                         Gravity   \n",
       "2732  https://genius.com/artists/John-mayer  Slow Dancing in a Burning Room   \n",
       "2733  https://genius.com/artists/John-mayer                    Free Fallin’   \n",
       "2734  https://genius.com/artists/John-mayer                    In the Blood   \n",
       "\n",
       "                                                 lyrics  \\\n",
       "2730  Ah, ah, ah\\nAh...\\n\\nI'm the boy in your other...   \n",
       "2731  Gravity is working against me\\nAnd gravity wan...   \n",
       "2732  It's not a silly little moment\\nIt's not the s...   \n",
       "2733  She's a good girl, loves her mama\\nLoves Jesus...   \n",
       "2734  How much of my mother has my mother left in me...   \n",
       "\n",
       "                                            spotify_url billboard_genre  \\\n",
       "2730  https://open.spotify.com/track/3bH4HzoZZFq8UpZ...  folk_americana   \n",
       "2731  https://open.spotify.com/track/52K3qt1rCYf3Ciu...  folk_americana   \n",
       "2732  https://open.spotify.com/track/3f8Uygfz3CIpUCo...  folk_americana   \n",
       "2733  https://open.spotify.com/track/4LloVtxNZpeh7q7...  folk_americana   \n",
       "2734  https://open.spotify.com/track/77Y57qRJBvkGCUw...  folk_americana   \n",
       "\n",
       "                                           clean_lyrics  \n",
       "2730  ah ah ah ah i m the boy in your other phone li...  \n",
       "2731  gravity is working against me and gravity want...  \n",
       "2732  it s not a silly little moment it s not the st...  \n",
       "2733  she s a good girl loves her mama loves jesus a...  \n",
       "2734  how much of my mother has my mother left in me...  "
      ]
     },
     "execution_count": 342,
     "metadata": {},
     "output_type": "execute_result"
    }
   ],
   "source": [
    "#create a dataframe of just John Mayer songs\n",
    "john_mayer = songs[songs['artist_name'] == 'John Mayer']\n",
    "john_mayer.head()"
   ]
  },
  {
   "cell_type": "code",
   "execution_count": 344,
   "metadata": {},
   "outputs": [],
   "source": [
    "cv_jm = CountVectorizer(stop_words='english', min_df=5)\n",
    "cv_jm.fit(john_mayer['clean_lyrics'])\n",
    "\n",
    "lyrics_vec_jm = cv.transform(john_mayer['clean_lyrics'])\n",
    "lyrics_df_jm = pd.DataFrame(lyrics_vec_jm.todense(), columns=cv.get_feature_names())"
   ]
  },
  {
   "cell_type": "code",
   "execution_count": 347,
   "metadata": {},
   "outputs": [
    {
     "data": {
      "text/plain": [
       "KMeans(n_clusters=3)"
      ]
     },
     "execution_count": 347,
     "metadata": {},
     "output_type": "execute_result"
    }
   ],
   "source": [
    "#intstantiate model\n",
    "km_jm = KMeans(n_clusters=3)\n",
    "km_jm.fit(lyrics_vec_jm)\n"
   ]
  },
  {
   "cell_type": "code",
   "execution_count": 349,
   "metadata": {},
   "outputs": [
    {
     "name": "stderr",
     "output_type": "stream",
     "text": [
      "/Users/joshuamizraji/anaconda3/envs/personal/lib/python3.7/site-packages/ipykernel_launcher.py:1: SettingWithCopyWarning: \n",
      "A value is trying to be set on a copy of a slice from a DataFrame.\n",
      "Try using .loc[row_indexer,col_indexer] = value instead\n",
      "\n",
      "See the caveats in the documentation: https://pandas.pydata.org/pandas-docs/stable/user_guide/indexing.html#returning-a-view-versus-a-copy\n",
      "  \"\"\"Entry point for launching an IPython kernel.\n"
     ]
    }
   ],
   "source": [
    "john_mayer['cluster'] = km_jm.labels_"
   ]
  },
  {
   "cell_type": "code",
   "execution_count": 365,
   "metadata": {},
   "outputs": [
    {
     "data": {
      "image/png": "[encoded data removed]",
      "text/plain": [
       "<Figure size 576x396 with 1 Axes>"
      ]
     },
     "metadata": {},
     "output_type": "display_data"
    }
   ],
   "source": [
    "df_john_mayer = pd.DataFrame(john_mayer[['cluster']].value_counts(normalize=True).reset_index())\n",
    "\n",
    "squarify.plot(sizes=df_john_mayer[0], label=df_john_mayer['cluster'], alpha=.7, color=['lightcyan','lightgreen','grey'])\n",
    "plt.axis('off')\n",
    "plt.title(f'Percentage of Clusters for John Mayer Songs', size=16)\n",
    "plt.savefig('./imgs/john_mayer_cluster.jpeg',bbox_inches='tight');"
   ]
  },
  {
   "cell_type": "code",
   "execution_count": 355,
   "metadata": {},
   "outputs": [
    {
     "data": {
      "text/html": [
       "<div>\n",
       "<style scoped>\n",
       "    .dataframe tbody tr th:only-of-type {\n",
       "        vertical-align: middle;\n",
       "    }\n",
       "\n",
       "    .dataframe tbody tr th {\n",
       "        vertical-align: top;\n",
       "    }\n",
       "\n",
       "    .dataframe thead th {\n",
       "        text-align: right;\n",
       "    }\n",
       "</style>\n",
       "<table border=\"1\" class=\"dataframe\">\n",
       "  <thead>\n",
       "    <tr style=\"text-align: right;\">\n",
       "      <th></th>\n",
       "      <th>artist_name</th>\n",
       "      <th>image_url</th>\n",
       "      <th>url</th>\n",
       "      <th>title</th>\n",
       "      <th>lyrics</th>\n",
       "      <th>spotify_url</th>\n",
       "      <th>billboard_genre</th>\n",
       "      <th>clean_lyrics</th>\n",
       "      <th>cluster</th>\n",
       "    </tr>\n",
       "  </thead>\n",
       "  <tbody>\n",
       "    <tr>\n",
       "      <th>2767</th>\n",
       "      <td>John Mayer</td>\n",
       "      <td>https://images.genius.com/4c443bf06bf6b696ad4f...</td>\n",
       "      <td>https://genius.com/artists/John-mayer</td>\n",
       "      <td>Say</td>\n",
       "      <td>Take all of your wasted honor\\nEvery little pa...</td>\n",
       "      <td>NaN</td>\n",
       "      <td>folk_americana</td>\n",
       "      <td>take all of your wasted honor every little pas...</td>\n",
       "      <td>1</td>\n",
       "    </tr>\n",
       "  </tbody>\n",
       "</table>\n",
       "</div>"
      ],
      "text/plain": [
       "     artist_name                                          image_url  \\\n",
       "2767  John Mayer  https://images.genius.com/4c443bf06bf6b696ad4f...   \n",
       "\n",
       "                                        url title  \\\n",
       "2767  https://genius.com/artists/John-mayer   Say   \n",
       "\n",
       "                                                 lyrics spotify_url  \\\n",
       "2767  Take all of your wasted honor\\nEvery little pa...         NaN   \n",
       "\n",
       "     billboard_genre                                       clean_lyrics  \\\n",
       "2767  folk_americana  take all of your wasted honor every little pas...   \n",
       "\n",
       "      cluster  \n",
       "2767        1  "
      ]
     },
     "execution_count": 355,
     "metadata": {},
     "output_type": "execute_result"
    }
   ],
   "source": [
    "#what is cluster 1?\n",
    "john_mayer[john_mayer['cluster'] == 1]"
   ]
  },
  {
   "cell_type": "code",
   "execution_count": 358,
   "metadata": {},
   "outputs": [
    {
     "data": {
      "text/html": [
       "<div>\n",
       "<style scoped>\n",
       "    .dataframe tbody tr th:only-of-type {\n",
       "        vertical-align: middle;\n",
       "    }\n",
       "\n",
       "    .dataframe tbody tr th {\n",
       "        vertical-align: top;\n",
       "    }\n",
       "\n",
       "    .dataframe thead th {\n",
       "        text-align: right;\n",
       "    }\n",
       "</style>\n",
       "<table border=\"1\" class=\"dataframe\">\n",
       "  <thead>\n",
       "    <tr style=\"text-align: right;\">\n",
       "      <th></th>\n",
       "      <th>artist_name</th>\n",
       "      <th>image_url</th>\n",
       "      <th>url</th>\n",
       "      <th>title</th>\n",
       "      <th>lyrics</th>\n",
       "      <th>spotify_url</th>\n",
       "      <th>billboard_genre</th>\n",
       "      <th>clean_lyrics</th>\n",
       "      <th>cluster</th>\n",
       "    </tr>\n",
       "  </thead>\n",
       "  <tbody>\n",
       "    <tr>\n",
       "      <th>2855</th>\n",
       "      <td>John Mayer</td>\n",
       "      <td>https://images.genius.com/4c443bf06bf6b696ad4f...</td>\n",
       "      <td>https://genius.com/artists/John-mayer</td>\n",
       "      <td>Wanna Be Startin’ Somethin’</td>\n",
       "      <td>I said you want to be starting something\\nYou ...</td>\n",
       "      <td>NaN</td>\n",
       "      <td>folk_americana</td>\n",
       "      <td>i said you want to be starting something you g...</td>\n",
       "      <td>2</td>\n",
       "    </tr>\n",
       "  </tbody>\n",
       "</table>\n",
       "</div>"
      ],
      "text/plain": [
       "     artist_name                                          image_url  \\\n",
       "2855  John Mayer  https://images.genius.com/4c443bf06bf6b696ad4f...   \n",
       "\n",
       "                                        url                        title  \\\n",
       "2855  https://genius.com/artists/John-mayer  Wanna Be Startin’ Somethin’   \n",
       "\n",
       "                                                 lyrics spotify_url  \\\n",
       "2855  I said you want to be starting something\\nYou ...         NaN   \n",
       "\n",
       "     billboard_genre                                       clean_lyrics  \\\n",
       "2855  folk_americana  i said you want to be starting something you g...   \n",
       "\n",
       "      cluster  \n",
       "2855        2  "
      ]
     },
     "execution_count": 358,
     "metadata": {},
     "output_type": "execute_result"
    }
   ],
   "source": [
    "#what is cluster 2?\n",
    "john_mayer[john_mayer['cluster'] == 2]"
   ]
  },
  {
   "cell_type": "markdown",
   "metadata": {},
   "source": [
    "It would make sense that \"Wanna Be Startin' Somethin'\" is in this list because it is not an original John Mayer song. \"Say\" repeats the same lyrics for the whole song, which is why I believe this ended up in it's own cluster."
   ]
  },
  {
   "cell_type": "code",
   "execution_count": null,
   "metadata": {},
   "outputs": [],
   "source": []
  }
 ],
 "metadata": {
  "kernelspec": {
   "display_name": "Python [conda env:personal] *",
   "language": "python",
   "name": "conda-env-personal-py"
  },
  "language_info": {
   "codemirror_mode": {
    "name": "ipython",
    "version": 3
   },
   "file_extension": ".py",
   "mimetype": "text/x-python",
   "name": "python",
   "nbconvert_exporter": "python",
   "pygments_lexer": "ipython3",
   "version": "3.7.7"
  }
 },
 "nbformat": 4,
 "nbformat_minor": 4
}
