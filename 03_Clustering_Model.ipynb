{
 "cells": [
  {
   "cell_type": "markdown",
   "metadata": {},
   "source": [
    "# Clustering Model\n",
    "This notebook contains a clustering model of the artists and song lyrics. \n"
   ]
  },
  {
   "cell_type": "code",
   "execution_count": 127,
   "metadata": {},
   "outputs": [],
   "source": [
    "import pandas as pd\n",
    "import numpy as np\n",
    "import seaborn as sns\n",
    "import matplotlib.pyplot as plt\n",
    "from sklearn.cluster import KMeans\n",
    "from sklearn.feature_extraction.text import CountVectorizer, TfidfVectorizer\n",
    "from sklearn.metrics import silhouette_score\n",
    "from sklearn.preprocessing import StandardScaler\n",
    "from sklearn.decomposition import PCA\n",
    "\n",
    "import re\n",
    "from bs4 import BeautifulSoup             \n",
    "import squarify\n",
    "from yellowbrick.cluster import InterclusterDistance\n",
    "\n",
    "import spacy\n",
    "from spacy.lang.en import English\n",
    "import en_core_web_lg\n",
    "from spacy import displacy\n"
   ]
  },
  {
   "cell_type": "code",
   "execution_count": 2,
   "metadata": {},
   "outputs": [
    {
     "data": {
      "text/html": [
       "<div>\n",
       "<style scoped>\n",
       "    .dataframe tbody tr th:only-of-type {\n",
       "        vertical-align: middle;\n",
       "    }\n",
       "\n",
       "    .dataframe tbody tr th {\n",
       "        vertical-align: top;\n",
       "    }\n",
       "\n",
       "    .dataframe thead th {\n",
       "        text-align: right;\n",
       "    }\n",
       "</style>\n",
       "<table border=\"1\" class=\"dataframe\">\n",
       "  <thead>\n",
       "    <tr style=\"text-align: right;\">\n",
       "      <th></th>\n",
       "      <th>artist_name</th>\n",
       "      <th>lyrics</th>\n",
       "      <th>billboard_genre</th>\n",
       "      <th>clean_lyrics</th>\n",
       "    </tr>\n",
       "  </thead>\n",
       "  <tbody>\n",
       "    <tr>\n",
       "      <th>0</th>\n",
       "      <td>Selena Gomez</td>\n",
       "      <td>You promised the world and I fell for it\\nI pu...</td>\n",
       "      <td>pop</td>\n",
       "      <td>you promised the world and i fell for it i put...</td>\n",
       "    </tr>\n",
       "    <tr>\n",
       "      <th>1</th>\n",
       "      <td>​The Lumineers</td>\n",
       "      <td>Ah, ah, when I was younger\\nI, I should've kno...</td>\n",
       "      <td>folk_americana</td>\n",
       "      <td>ah ah when i was younger i i should ve known b...</td>\n",
       "    </tr>\n",
       "    <tr>\n",
       "      <th>2</th>\n",
       "      <td>Simon &amp; Garfunkel</td>\n",
       "      <td>Hello darkness, my old friend\\nI've come to ta...</td>\n",
       "      <td>folk_americana</td>\n",
       "      <td>hello darkness my old friend i ve come to talk...</td>\n",
       "    </tr>\n",
       "    <tr>\n",
       "      <th>3</th>\n",
       "      <td>Mumford &amp; Sons</td>\n",
       "      <td>Heto mi halanma\\nMine waddimi yiddema\\nKo ane ...</td>\n",
       "      <td>folk_americana</td>\n",
       "      <td>heto mi halanma mine waddimi yiddema ko ane ta...</td>\n",
       "    </tr>\n",
       "    <tr>\n",
       "      <th>4</th>\n",
       "      <td>Lord Huron</td>\n",
       "      <td>I am not the only traveler\\nWho has not repaid...</td>\n",
       "      <td>folk_americana</td>\n",
       "      <td>i am not the only traveler who has not repaid ...</td>\n",
       "    </tr>\n",
       "  </tbody>\n",
       "</table>\n",
       "</div>"
      ],
      "text/plain": [
       "         artist_name                                             lyrics  \\\n",
       "0       Selena Gomez  You promised the world and I fell for it\\nI pu...   \n",
       "1     ​The Lumineers  Ah, ah, when I was younger\\nI, I should've kno...   \n",
       "2  Simon & Garfunkel  Hello darkness, my old friend\\nI've come to ta...   \n",
       "3     Mumford & Sons  Heto mi halanma\\nMine waddimi yiddema\\nKo ane ...   \n",
       "4         Lord Huron  I am not the only traveler\\nWho has not repaid...   \n",
       "\n",
       "  billboard_genre                                       clean_lyrics  \n",
       "0             pop  you promised the world and i fell for it i put...  \n",
       "1  folk_americana  ah ah when i was younger i i should ve known b...  \n",
       "2  folk_americana  hello darkness my old friend i ve come to talk...  \n",
       "3  folk_americana  heto mi halanma mine waddimi yiddema ko ane ta...  \n",
       "4  folk_americana  i am not the only traveler who has not repaid ...  "
      ]
     },
     "execution_count": 2,
     "metadata": {},
     "output_type": "execute_result"
    }
   ],
   "source": [
    "lyrics = pd.read_csv('./all_lyrics.csv')\n",
    "lyrics.head()"
   ]
  },
  {
   "cell_type": "code",
   "execution_count": 3,
   "metadata": {},
   "outputs": [],
   "source": [
    "#Add a new column to the df that counts unique words of a song\n",
    "\n",
    "def unique_words(df):\n",
    "    word_count = [len(set(df['clean_lyrics'].values[i].split())) for i in range(0,df.shape[0])] \n",
    "\n",
    "    return word_count\n",
    "\n",
    "#Create new column in df called unique_words\n",
    "lyrics.loc[:, ('unique_words')] = unique_words(lyrics)"
   ]
  },
  {
   "cell_type": "code",
   "execution_count": 4,
   "metadata": {},
   "outputs": [],
   "source": [
    "#get char count\n",
    "lyrics['length'] = [len(lyric) for lyric in lyrics['clean_lyrics']]"
   ]
  },
  {
   "cell_type": "markdown",
   "metadata": {},
   "source": [
    "## Preprocess The Data Using spaCy"
   ]
  },
  {
   "cell_type": "code",
   "execution_count": 5,
   "metadata": {},
   "outputs": [],
   "source": [
    "nlp = en_core_web_lg.load()"
   ]
  },
  {
   "cell_type": "code",
   "execution_count": 6,
   "metadata": {},
   "outputs": [],
   "source": [
    "nlp.max_length = 1019400 #increase the max length to handle lyrics that exceed count of 1_000_000"
   ]
  },
  {
   "cell_type": "code",
   "execution_count": 7,
   "metadata": {},
   "outputs": [
    {
     "data": {
      "text/plain": [
       "0     promise the world and i fall for i put first a...\n",
       "1     ah ah when i be young i i should ve know well ...\n",
       "2     hello darkness old friend i ve come to talk wi...\n",
       "3     heto mi halanma mine waddimi yiddema ko ane ta...\n",
       "4     i be not the only traveler who have not repay ...\n",
       "5     don t know i m no good for i ve learn to lose ...\n",
       "6     i be scare of dentist and the dark i be scared...\n",
       "7     old man look at life i m a lot like be old man...\n",
       "8     thought i d end up with sean but wasn t a matc...\n",
       "9     woo should take this back to place that s what...\n",
       "10    i wanna follow where go i think about and know...\n",
       "11    hey i be do just fine before i meet i drink to...\n",
       "12    first thing first i ma say all the word inside...\n",
       "13    when rain pour but didn t even notice ain t ra...\n",
       "14    hahahahaha tank god ayy ayy i ve be fuckin hoe...\n",
       "15    be travel these wide road for so long heart s ...\n",
       "16    lover s get humor s the giggle at a funeral kn...\n",
       "17    hey havana ooh na na ayy half of heart be in h...\n",
       "18    high high hope have to have high high hope for...\n",
       "19    i guess right now ve get the last laugh i m so...\n",
       "20    feel like re on the edge right now i wish that...\n",
       "21    use to spend night out in a barroom liquor be ...\n",
       "22    ah ah ah ah i m the boy in other phone lightin...\n",
       "23    why man great til get to be great woo i just t...\n",
       "24    one one one one one talkin in sleep at night m...\n",
       "25    spend hour i need more hour with spend the wee...\n",
       "26    just yesterday morning let know be go suzanne ...\n",
       "27    so re still think of just like i know should i...\n",
       "28    and wishin and wishin and wishin and wishin wi...\n",
       "29    find when heart be break i fill cup until over...\n",
       "30    hey hey hey i get a condo in manhattan baby gi...\n",
       "31    woah oh hm hmm ve be runnin round runnin round...\n",
       "32    oh father tell do get what deserve oh get what...\n",
       "33    well buckle make impression on the inside of t...\n",
       "34    the club isn t the good place to find a lover ...\n",
       "35    can t see that s just rain there ain t no need...\n",
       "36    go together well than bird of a feather and ch...\n",
       "Name: clean_lyrics, dtype: object"
      ]
     },
     "execution_count": 7,
     "metadata": {},
     "output_type": "execute_result"
    }
   ],
   "source": [
    "#lemmatize the lyrics\n",
    "lyrics['clean_lyrics'].apply(lambda row: \" \".join([w.lemma_ for w in nlp(row) if w.lemma_ != '-PRON-']))\n",
    "\n",
    "# solution adapted from https://stackoverflow.com/questions/47498293/how-can-i-lemmatize-strings-in-pandas-dataframes"
   ]
  },
  {
   "cell_type": "markdown",
   "metadata": {},
   "source": [
    "### Preprocessing\n",
    "Compare the output between CountVectorizer and TfIfdVectorizer"
   ]
  },
  {
   "cell_type": "code",
   "execution_count": 8,
   "metadata": {},
   "outputs": [],
   "source": [
    "#instantiate\n",
    "cv = CountVectorizer(stop_words='english', ngram_range=(1,3))\n",
    "\n",
    "#fit transform\n",
    "cv_vec = cv.fit_transform(lyrics['clean_lyrics'])\n",
    "\n",
    "#create a dataframe\n",
    "cv_df = pd.DataFrame(cv_vec.todense(), columns=cv.get_feature_names())"
   ]
  },
  {
   "cell_type": "code",
   "execution_count": 9,
   "metadata": {},
   "outputs": [],
   "source": [
    "#TF-IDF\n",
    "tf = TfidfVectorizer(stop_words='english', ngram_range=(1,3))\n",
    "tf_vec = tf.fit_transform(lyrics['clean_lyrics'])\n",
    "\n",
    "#create a dataframe\n",
    "tf_df = pd.DataFrame(tf_vec.todense(), columns=tf.get_feature_names())"
   ]
  },
  {
   "cell_type": "markdown",
   "metadata": {},
   "source": [
    "# Use K-means to cluster"
   ]
  },
  {
   "cell_type": "code",
   "execution_count": 10,
   "metadata": {},
   "outputs": [],
   "source": [
    "#cluster using the lemmatized words and countvectorizer\n",
    "\n",
    "#intstantiate model\n",
    "km_cv = KMeans(n_clusters=5, random_state=42)\n",
    "km_cv.fit(cv_vec)\n",
    "\n",
    "#create a column called cluster\n",
    "lyrics['cluster_cv'] = km_cv.labels_"
   ]
  },
  {
   "cell_type": "code",
   "execution_count": 11,
   "metadata": {},
   "outputs": [
    {
     "data": {
      "text/plain": [
       "0.20236548608009444"
      ]
     },
     "execution_count": 11,
     "metadata": {},
     "output_type": "execute_result"
    }
   ],
   "source": [
    "#Silhouette_score\n",
    "silhouette_score(cv_vec, km_cv.labels_)"
   ]
  },
  {
   "cell_type": "code",
   "execution_count": 12,
   "metadata": {},
   "outputs": [],
   "source": [
    "#cluster using the lemmatized words and tf-idfvectorizer\n",
    "\n",
    "#intstantiate model\n",
    "km_tf = KMeans(n_clusters=5, random_state=42)\n",
    "km_tf.fit(tf_vec)\n",
    "\n",
    "#create a column called cluster\n",
    "lyrics['cluster_tf'] = km_tf.labels_"
   ]
  },
  {
   "cell_type": "code",
   "execution_count": 13,
   "metadata": {},
   "outputs": [
    {
     "data": {
      "text/plain": [
       "0.010897229851075645"
      ]
     },
     "execution_count": 13,
     "metadata": {},
     "output_type": "execute_result"
    }
   ],
   "source": [
    "#Silhouette_score\n",
    "silhouette_score(tf_vec, km_tf.labels_)"
   ]
  },
  {
   "cell_type": "code",
   "execution_count": 14,
   "metadata": {},
   "outputs": [
    {
     "data": {
      "text/html": [
       "<div>\n",
       "<style scoped>\n",
       "    .dataframe tbody tr th:only-of-type {\n",
       "        vertical-align: middle;\n",
       "    }\n",
       "\n",
       "    .dataframe tbody tr th {\n",
       "        vertical-align: top;\n",
       "    }\n",
       "\n",
       "    .dataframe thead th {\n",
       "        text-align: right;\n",
       "    }\n",
       "</style>\n",
       "<table border=\"1\" class=\"dataframe\">\n",
       "  <thead>\n",
       "    <tr style=\"text-align: right;\">\n",
       "      <th></th>\n",
       "      <th>artist_name</th>\n",
       "      <th>lyrics</th>\n",
       "      <th>billboard_genre</th>\n",
       "      <th>clean_lyrics</th>\n",
       "      <th>unique_words</th>\n",
       "      <th>length</th>\n",
       "      <th>cluster_cv</th>\n",
       "      <th>cluster_tf</th>\n",
       "    </tr>\n",
       "  </thead>\n",
       "  <tbody>\n",
       "    <tr>\n",
       "      <th>28</th>\n",
       "      <td>Drake</td>\n",
       "      <td>And they wishin' and wishin' and wishin' and w...</td>\n",
       "      <td>pop</td>\n",
       "      <td>and they wishin and wishin and wishin and wish...</td>\n",
       "      <td>10327</td>\n",
       "      <td>1019350</td>\n",
       "      <td>0</td>\n",
       "      <td>3</td>\n",
       "    </tr>\n",
       "    <tr>\n",
       "      <th>18</th>\n",
       "      <td>Panic! at the Disco</td>\n",
       "      <td>High, high hopes\\n\\nHad to have high, high hop...</td>\n",
       "      <td>pop</td>\n",
       "      <td>high high hopes had to have high high hopes fo...</td>\n",
       "      <td>3214</td>\n",
       "      <td>211713</td>\n",
       "      <td>1</td>\n",
       "      <td>1</td>\n",
       "    </tr>\n",
       "    <tr>\n",
       "      <th>31</th>\n",
       "      <td>Charlie Puth</td>\n",
       "      <td>Woah-oh, hm-hmm\\n\\nYou've been runnin' 'round,...</td>\n",
       "      <td>pop</td>\n",
       "      <td>woah oh hm hmm you ve been runnin round runnin...</td>\n",
       "      <td>2065</td>\n",
       "      <td>209974</td>\n",
       "      <td>1</td>\n",
       "      <td>3</td>\n",
       "    </tr>\n",
       "    <tr>\n",
       "      <th>30</th>\n",
       "      <td>Bruno Mars</td>\n",
       "      <td>Hey, hey, hey\\nI got a condo in Manhattan\\nBab...</td>\n",
       "      <td>pop</td>\n",
       "      <td>hey hey hey i got a condo in manhattan baby gi...</td>\n",
       "      <td>1927</td>\n",
       "      <td>182161</td>\n",
       "      <td>1</td>\n",
       "      <td>3</td>\n",
       "    </tr>\n",
       "    <tr>\n",
       "      <th>29</th>\n",
       "      <td>Halsey</td>\n",
       "      <td>Found you when your heart was broke\\nI filled ...</td>\n",
       "      <td>pop</td>\n",
       "      <td>found you when your heart was broke i filled y...</td>\n",
       "      <td>2915</td>\n",
       "      <td>205962</td>\n",
       "      <td>1</td>\n",
       "      <td>3</td>\n",
       "    </tr>\n",
       "    <tr>\n",
       "      <th>26</th>\n",
       "      <td>James Taylor</td>\n",
       "      <td>Just yesterday morning, they let me know you w...</td>\n",
       "      <td>folk_americana</td>\n",
       "      <td>just yesterday morning they let me know you we...</td>\n",
       "      <td>4219</td>\n",
       "      <td>272667</td>\n",
       "      <td>1</td>\n",
       "      <td>2</td>\n",
       "    </tr>\n",
       "    <tr>\n",
       "      <th>19</th>\n",
       "      <td>Alessia Cara</td>\n",
       "      <td>I guess right now you've got the last laugh\\n\\...</td>\n",
       "      <td>pop</td>\n",
       "      <td>i guess right now you ve got the last laugh i ...</td>\n",
       "      <td>1712</td>\n",
       "      <td>150879</td>\n",
       "      <td>1</td>\n",
       "      <td>3</td>\n",
       "    </tr>\n",
       "    <tr>\n",
       "      <th>17</th>\n",
       "      <td>Camila Cabello</td>\n",
       "      <td>Hey\\n\\nHavana, ooh na-na (Ayy)\\nHalf of my hea...</td>\n",
       "      <td>pop</td>\n",
       "      <td>hey havana ooh na na ayy half of my heart is i...</td>\n",
       "      <td>1860</td>\n",
       "      <td>138914</td>\n",
       "      <td>1</td>\n",
       "      <td>3</td>\n",
       "    </tr>\n",
       "    <tr>\n",
       "      <th>12</th>\n",
       "      <td>Imagine Dragons</td>\n",
       "      <td>First things first\\nI'ma say all the words ins...</td>\n",
       "      <td>pop</td>\n",
       "      <td>first things first i ma say all the words insi...</td>\n",
       "      <td>2761</td>\n",
       "      <td>282041</td>\n",
       "      <td>1</td>\n",
       "      <td>1</td>\n",
       "    </tr>\n",
       "    <tr>\n",
       "      <th>11</th>\n",
       "      <td>The Chainsmokers</td>\n",
       "      <td>Hey, I was doing just fine before I met you\\nI...</td>\n",
       "      <td>pop</td>\n",
       "      <td>hey i was doing just fine before i met you i d...</td>\n",
       "      <td>1197</td>\n",
       "      <td>211175</td>\n",
       "      <td>1</td>\n",
       "      <td>3</td>\n",
       "    </tr>\n",
       "    <tr>\n",
       "      <th>36</th>\n",
       "      <td>Jonas Brothers</td>\n",
       "      <td>We go together\\nBetter than birds of a feather...</td>\n",
       "      <td>pop</td>\n",
       "      <td>we go together better than birds of a feather ...</td>\n",
       "      <td>2143</td>\n",
       "      <td>173725</td>\n",
       "      <td>1</td>\n",
       "      <td>3</td>\n",
       "    </tr>\n",
       "    <tr>\n",
       "      <th>7</th>\n",
       "      <td>Neil Young</td>\n",
       "      <td>Old man, look at my life\\nI'm a lot like you w...</td>\n",
       "      <td>folk_americana</td>\n",
       "      <td>old man look at my life i m a lot like you wer...</td>\n",
       "      <td>4326</td>\n",
       "      <td>309828</td>\n",
       "      <td>1</td>\n",
       "      <td>2</td>\n",
       "    </tr>\n",
       "    <tr>\n",
       "      <th>10</th>\n",
       "      <td>Shawn Mendes</td>\n",
       "      <td>I wanna follow where she goes\\nI think about h...</td>\n",
       "      <td>pop</td>\n",
       "      <td>i wanna follow where she goes i think about he...</td>\n",
       "      <td>2069</td>\n",
       "      <td>203796</td>\n",
       "      <td>1</td>\n",
       "      <td>3</td>\n",
       "    </tr>\n",
       "    <tr>\n",
       "      <th>8</th>\n",
       "      <td>Ariana Grande</td>\n",
       "      <td>Thought I'd end up with Sean\\nBut he wasn't a ...</td>\n",
       "      <td>pop</td>\n",
       "      <td>thought i d end up with sean but he wasn t a m...</td>\n",
       "      <td>3377</td>\n",
       "      <td>371067</td>\n",
       "      <td>2</td>\n",
       "      <td>3</td>\n",
       "    </tr>\n",
       "    <tr>\n",
       "      <th>34</th>\n",
       "      <td>Ed Sheeran</td>\n",
       "      <td>The club isn't the best place to find a lover\\...</td>\n",
       "      <td>pop</td>\n",
       "      <td>the club isn t the best place to find a lover ...</td>\n",
       "      <td>4893</td>\n",
       "      <td>451588</td>\n",
       "      <td>2</td>\n",
       "      <td>2</td>\n",
       "    </tr>\n",
       "    <tr>\n",
       "      <th>14</th>\n",
       "      <td>Post Malone</td>\n",
       "      <td>Hahahahaha\\nTank God\\nAyy, ayy\\n\\nI've been fu...</td>\n",
       "      <td>pop</td>\n",
       "      <td>hahahahaha tank god ayy ayy i ve been fuckin h...</td>\n",
       "      <td>3615</td>\n",
       "      <td>275574</td>\n",
       "      <td>2</td>\n",
       "      <td>3</td>\n",
       "    </tr>\n",
       "    <tr>\n",
       "      <th>20</th>\n",
       "      <td>NF</td>\n",
       "      <td>Feels like we're on the edge right now\\nI wish...</td>\n",
       "      <td>pop</td>\n",
       "      <td>feels like we re on the edge right now i wish ...</td>\n",
       "      <td>3774</td>\n",
       "      <td>312693</td>\n",
       "      <td>2</td>\n",
       "      <td>3</td>\n",
       "    </tr>\n",
       "    <tr>\n",
       "      <th>24</th>\n",
       "      <td>Dua Lipa</td>\n",
       "      <td>One, one, one, one, one\\n\\nTalkin' in my sleep...</td>\n",
       "      <td>pop</td>\n",
       "      <td>one one one one one talkin in my sleep at nigh...</td>\n",
       "      <td>2123</td>\n",
       "      <td>304332</td>\n",
       "      <td>2</td>\n",
       "      <td>2</td>\n",
       "    </tr>\n",
       "    <tr>\n",
       "      <th>25</th>\n",
       "      <td>Maroon 5</td>\n",
       "      <td>Spent 24 hours\\nI need more hours with you\\nYo...</td>\n",
       "      <td>pop</td>\n",
       "      <td>spent hours i need more hours with you you spe...</td>\n",
       "      <td>2421</td>\n",
       "      <td>305096</td>\n",
       "      <td>2</td>\n",
       "      <td>3</td>\n",
       "    </tr>\n",
       "    <tr>\n",
       "      <th>0</th>\n",
       "      <td>Selena Gomez</td>\n",
       "      <td>You promised the world and I fell for it\\nI pu...</td>\n",
       "      <td>pop</td>\n",
       "      <td>you promised the world and i fell for it i put...</td>\n",
       "      <td>1925</td>\n",
       "      <td>209132</td>\n",
       "      <td>3</td>\n",
       "      <td>2</td>\n",
       "    </tr>\n",
       "    <tr>\n",
       "      <th>33</th>\n",
       "      <td>Tyler Childers</td>\n",
       "      <td>Well my buckle makes impressions\\nOn the insid...</td>\n",
       "      <td>folk_americana</td>\n",
       "      <td>well my buckle makes impressions on the inside...</td>\n",
       "      <td>2149</td>\n",
       "      <td>74006</td>\n",
       "      <td>4</td>\n",
       "      <td>2</td>\n",
       "    </tr>\n",
       "    <tr>\n",
       "      <th>32</th>\n",
       "      <td>KALEO</td>\n",
       "      <td>Oh, father, tell me, do we get what we deserve...</td>\n",
       "      <td>folk_americana</td>\n",
       "      <td>oh father tell me do we get what we deserve oh...</td>\n",
       "      <td>797</td>\n",
       "      <td>28248</td>\n",
       "      <td>4</td>\n",
       "      <td>3</td>\n",
       "    </tr>\n",
       "    <tr>\n",
       "      <th>1</th>\n",
       "      <td>​The Lumineers</td>\n",
       "      <td>Ah, ah, when I was younger\\nI, I should've kno...</td>\n",
       "      <td>folk_americana</td>\n",
       "      <td>ah ah when i was younger i i should ve known b...</td>\n",
       "      <td>1580</td>\n",
       "      <td>54358</td>\n",
       "      <td>4</td>\n",
       "      <td>1</td>\n",
       "    </tr>\n",
       "    <tr>\n",
       "      <th>2</th>\n",
       "      <td>Simon &amp; Garfunkel</td>\n",
       "      <td>Hello darkness, my old friend\\nI've come to ta...</td>\n",
       "      <td>folk_americana</td>\n",
       "      <td>hello darkness my old friend i ve come to talk...</td>\n",
       "      <td>2616</td>\n",
       "      <td>122125</td>\n",
       "      <td>4</td>\n",
       "      <td>4</td>\n",
       "    </tr>\n",
       "    <tr>\n",
       "      <th>3</th>\n",
       "      <td>Mumford &amp; Sons</td>\n",
       "      <td>Heto mi halanma\\nMine waddimi yiddema\\nKo ane ...</td>\n",
       "      <td>folk_americana</td>\n",
       "      <td>heto mi halanma mine waddimi yiddema ko ane ta...</td>\n",
       "      <td>1928</td>\n",
       "      <td>100164</td>\n",
       "      <td>4</td>\n",
       "      <td>2</td>\n",
       "    </tr>\n",
       "    <tr>\n",
       "      <th>4</th>\n",
       "      <td>Lord Huron</td>\n",
       "      <td>I am not the only traveler\\nWho has not repaid...</td>\n",
       "      <td>folk_americana</td>\n",
       "      <td>i am not the only traveler who has not repaid ...</td>\n",
       "      <td>1205</td>\n",
       "      <td>55672</td>\n",
       "      <td>4</td>\n",
       "      <td>1</td>\n",
       "    </tr>\n",
       "    <tr>\n",
       "      <th>27</th>\n",
       "      <td>Khalid</td>\n",
       "      <td>So you're still thinking of me\\nJust like I kn...</td>\n",
       "      <td>pop</td>\n",
       "      <td>so you re still thinking of me just like i kno...</td>\n",
       "      <td>1717</td>\n",
       "      <td>103145</td>\n",
       "      <td>4</td>\n",
       "      <td>2</td>\n",
       "    </tr>\n",
       "    <tr>\n",
       "      <th>9</th>\n",
       "      <td>Niall Horan</td>\n",
       "      <td>(Woo)\\n\\nWe should take this back to my place\\...</td>\n",
       "      <td>pop</td>\n",
       "      <td>woo we should take this back to my place that ...</td>\n",
       "      <td>1490</td>\n",
       "      <td>101188</td>\n",
       "      <td>4</td>\n",
       "      <td>2</td>\n",
       "    </tr>\n",
       "    <tr>\n",
       "      <th>22</th>\n",
       "      <td>John Mayer</td>\n",
       "      <td>Ah, ah, ah\\nAh...\\n\\nI'm the boy in your other...</td>\n",
       "      <td>folk_americana</td>\n",
       "      <td>ah ah ah ah i m the boy in your other phone li...</td>\n",
       "      <td>2331</td>\n",
       "      <td>159808</td>\n",
       "      <td>4</td>\n",
       "      <td>2</td>\n",
       "    </tr>\n",
       "    <tr>\n",
       "      <th>21</th>\n",
       "      <td>Chris Stapleton</td>\n",
       "      <td>Used to spend my nights out in a barroom\\nLiqu...</td>\n",
       "      <td>folk_americana</td>\n",
       "      <td>used to spend my nights out in a barroom liquo...</td>\n",
       "      <td>1202</td>\n",
       "      <td>45170</td>\n",
       "      <td>4</td>\n",
       "      <td>0</td>\n",
       "    </tr>\n",
       "    <tr>\n",
       "      <th>6</th>\n",
       "      <td>Vance Joy</td>\n",
       "      <td>I was scared of dentists and the dark\\nI was s...</td>\n",
       "      <td>folk_americana</td>\n",
       "      <td>i was scared of dentists and the dark i was sc...</td>\n",
       "      <td>895</td>\n",
       "      <td>48022</td>\n",
       "      <td>4</td>\n",
       "      <td>2</td>\n",
       "    </tr>\n",
       "    <tr>\n",
       "      <th>35</th>\n",
       "      <td>Jack Johnson</td>\n",
       "      <td>Can't you see that it's just raining?\\nThere a...</td>\n",
       "      <td>folk_americana</td>\n",
       "      <td>can t you see that it s just raining there ain...</td>\n",
       "      <td>3142</td>\n",
       "      <td>177725</td>\n",
       "      <td>4</td>\n",
       "      <td>3</td>\n",
       "    </tr>\n",
       "    <tr>\n",
       "      <th>16</th>\n",
       "      <td>Hozier</td>\n",
       "      <td>My lover's got humor\\nShe's the giggle at a fu...</td>\n",
       "      <td>folk_americana</td>\n",
       "      <td>my lover s got humor she s the giggle at a fun...</td>\n",
       "      <td>1799</td>\n",
       "      <td>71263</td>\n",
       "      <td>4</td>\n",
       "      <td>1</td>\n",
       "    </tr>\n",
       "    <tr>\n",
       "      <th>15</th>\n",
       "      <td>Leon Bridges</td>\n",
       "      <td>Been travelling these wide roads\\nFor so long\\...</td>\n",
       "      <td>folk_americana</td>\n",
       "      <td>been travelling these wide roads for so long m...</td>\n",
       "      <td>1053</td>\n",
       "      <td>36474</td>\n",
       "      <td>4</td>\n",
       "      <td>3</td>\n",
       "    </tr>\n",
       "    <tr>\n",
       "      <th>13</th>\n",
       "      <td>Kacey Musgraves</td>\n",
       "      <td>When it rains, it pours\\nBut you didn't even n...</td>\n",
       "      <td>folk_americana</td>\n",
       "      <td>when it rains it pours but you didn t even not...</td>\n",
       "      <td>2214</td>\n",
       "      <td>116034</td>\n",
       "      <td>4</td>\n",
       "      <td>2</td>\n",
       "    </tr>\n",
       "    <tr>\n",
       "      <th>5</th>\n",
       "      <td>Billie Eilish</td>\n",
       "      <td>Don't you know I'm no good for you?\\nI've lear...</td>\n",
       "      <td>pop</td>\n",
       "      <td>don t you know i m no good for you i ve learne...</td>\n",
       "      <td>1539</td>\n",
       "      <td>127416</td>\n",
       "      <td>4</td>\n",
       "      <td>2</td>\n",
       "    </tr>\n",
       "    <tr>\n",
       "      <th>23</th>\n",
       "      <td>Lizzo</td>\n",
       "      <td>Why men great 'til they gotta be great?\\nWoo!\\...</td>\n",
       "      <td>pop</td>\n",
       "      <td>why men great til they gotta be great woo i ju...</td>\n",
       "      <td>2972</td>\n",
       "      <td>121297</td>\n",
       "      <td>4</td>\n",
       "      <td>3</td>\n",
       "    </tr>\n",
       "  </tbody>\n",
       "</table>\n",
       "</div>"
      ],
      "text/plain": [
       "            artist_name                                             lyrics  \\\n",
       "28                Drake  And they wishin' and wishin' and wishin' and w...   \n",
       "18  Panic! at the Disco  High, high hopes\\n\\nHad to have high, high hop...   \n",
       "31         Charlie Puth  Woah-oh, hm-hmm\\n\\nYou've been runnin' 'round,...   \n",
       "30           Bruno Mars  Hey, hey, hey\\nI got a condo in Manhattan\\nBab...   \n",
       "29               Halsey  Found you when your heart was broke\\nI filled ...   \n",
       "26         James Taylor  Just yesterday morning, they let me know you w...   \n",
       "19         Alessia Cara  I guess right now you've got the last laugh\\n\\...   \n",
       "17       Camila Cabello  Hey\\n\\nHavana, ooh na-na (Ayy)\\nHalf of my hea...   \n",
       "12      Imagine Dragons  First things first\\nI'ma say all the words ins...   \n",
       "11     The Chainsmokers  Hey, I was doing just fine before I met you\\nI...   \n",
       "36       Jonas Brothers  We go together\\nBetter than birds of a feather...   \n",
       "7            Neil Young  Old man, look at my life\\nI'm a lot like you w...   \n",
       "10         Shawn Mendes  I wanna follow where she goes\\nI think about h...   \n",
       "8         Ariana Grande  Thought I'd end up with Sean\\nBut he wasn't a ...   \n",
       "34           Ed Sheeran  The club isn't the best place to find a lover\\...   \n",
       "14          Post Malone  Hahahahaha\\nTank God\\nAyy, ayy\\n\\nI've been fu...   \n",
       "20                   NF  Feels like we're on the edge right now\\nI wish...   \n",
       "24             Dua Lipa  One, one, one, one, one\\n\\nTalkin' in my sleep...   \n",
       "25             Maroon 5  Spent 24 hours\\nI need more hours with you\\nYo...   \n",
       "0          Selena Gomez  You promised the world and I fell for it\\nI pu...   \n",
       "33       Tyler Childers  Well my buckle makes impressions\\nOn the insid...   \n",
       "32                KALEO  Oh, father, tell me, do we get what we deserve...   \n",
       "1        ​The Lumineers  Ah, ah, when I was younger\\nI, I should've kno...   \n",
       "2     Simon & Garfunkel  Hello darkness, my old friend\\nI've come to ta...   \n",
       "3        Mumford & Sons  Heto mi halanma\\nMine waddimi yiddema\\nKo ane ...   \n",
       "4            Lord Huron  I am not the only traveler\\nWho has not repaid...   \n",
       "27               Khalid  So you're still thinking of me\\nJust like I kn...   \n",
       "9           Niall Horan  (Woo)\\n\\nWe should take this back to my place\\...   \n",
       "22           John Mayer  Ah, ah, ah\\nAh...\\n\\nI'm the boy in your other...   \n",
       "21      Chris Stapleton  Used to spend my nights out in a barroom\\nLiqu...   \n",
       "6             Vance Joy  I was scared of dentists and the dark\\nI was s...   \n",
       "35         Jack Johnson  Can't you see that it's just raining?\\nThere a...   \n",
       "16               Hozier  My lover's got humor\\nShe's the giggle at a fu...   \n",
       "15         Leon Bridges  Been travelling these wide roads\\nFor so long\\...   \n",
       "13      Kacey Musgraves  When it rains, it pours\\nBut you didn't even n...   \n",
       "5         Billie Eilish  Don't you know I'm no good for you?\\nI've lear...   \n",
       "23                Lizzo  Why men great 'til they gotta be great?\\nWoo!\\...   \n",
       "\n",
       "   billboard_genre                                       clean_lyrics  \\\n",
       "28             pop  and they wishin and wishin and wishin and wish...   \n",
       "18             pop  high high hopes had to have high high hopes fo...   \n",
       "31             pop  woah oh hm hmm you ve been runnin round runnin...   \n",
       "30             pop  hey hey hey i got a condo in manhattan baby gi...   \n",
       "29             pop  found you when your heart was broke i filled y...   \n",
       "26  folk_americana  just yesterday morning they let me know you we...   \n",
       "19             pop  i guess right now you ve got the last laugh i ...   \n",
       "17             pop  hey havana ooh na na ayy half of my heart is i...   \n",
       "12             pop  first things first i ma say all the words insi...   \n",
       "11             pop  hey i was doing just fine before i met you i d...   \n",
       "36             pop  we go together better than birds of a feather ...   \n",
       "7   folk_americana  old man look at my life i m a lot like you wer...   \n",
       "10             pop  i wanna follow where she goes i think about he...   \n",
       "8              pop  thought i d end up with sean but he wasn t a m...   \n",
       "34             pop  the club isn t the best place to find a lover ...   \n",
       "14             pop  hahahahaha tank god ayy ayy i ve been fuckin h...   \n",
       "20             pop  feels like we re on the edge right now i wish ...   \n",
       "24             pop  one one one one one talkin in my sleep at nigh...   \n",
       "25             pop  spent hours i need more hours with you you spe...   \n",
       "0              pop  you promised the world and i fell for it i put...   \n",
       "33  folk_americana  well my buckle makes impressions on the inside...   \n",
       "32  folk_americana  oh father tell me do we get what we deserve oh...   \n",
       "1   folk_americana  ah ah when i was younger i i should ve known b...   \n",
       "2   folk_americana  hello darkness my old friend i ve come to talk...   \n",
       "3   folk_americana  heto mi halanma mine waddimi yiddema ko ane ta...   \n",
       "4   folk_americana  i am not the only traveler who has not repaid ...   \n",
       "27             pop  so you re still thinking of me just like i kno...   \n",
       "9              pop  woo we should take this back to my place that ...   \n",
       "22  folk_americana  ah ah ah ah i m the boy in your other phone li...   \n",
       "21  folk_americana  used to spend my nights out in a barroom liquo...   \n",
       "6   folk_americana  i was scared of dentists and the dark i was sc...   \n",
       "35  folk_americana  can t you see that it s just raining there ain...   \n",
       "16  folk_americana  my lover s got humor she s the giggle at a fun...   \n",
       "15  folk_americana  been travelling these wide roads for so long m...   \n",
       "13  folk_americana  when it rains it pours but you didn t even not...   \n",
       "5              pop  don t you know i m no good for you i ve learne...   \n",
       "23             pop  why men great til they gotta be great woo i ju...   \n",
       "\n",
       "    unique_words   length  cluster_cv  cluster_tf  \n",
       "28         10327  1019350           0           3  \n",
       "18          3214   211713           1           1  \n",
       "31          2065   209974           1           3  \n",
       "30          1927   182161           1           3  \n",
       "29          2915   205962           1           3  \n",
       "26          4219   272667           1           2  \n",
       "19          1712   150879           1           3  \n",
       "17          1860   138914           1           3  \n",
       "12          2761   282041           1           1  \n",
       "11          1197   211175           1           3  \n",
       "36          2143   173725           1           3  \n",
       "7           4326   309828           1           2  \n",
       "10          2069   203796           1           3  \n",
       "8           3377   371067           2           3  \n",
       "34          4893   451588           2           2  \n",
       "14          3615   275574           2           3  \n",
       "20          3774   312693           2           3  \n",
       "24          2123   304332           2           2  \n",
       "25          2421   305096           2           3  \n",
       "0           1925   209132           3           2  \n",
       "33          2149    74006           4           2  \n",
       "32           797    28248           4           3  \n",
       "1           1580    54358           4           1  \n",
       "2           2616   122125           4           4  \n",
       "3           1928   100164           4           2  \n",
       "4           1205    55672           4           1  \n",
       "27          1717   103145           4           2  \n",
       "9           1490   101188           4           2  \n",
       "22          2331   159808           4           2  \n",
       "21          1202    45170           4           0  \n",
       "6            895    48022           4           2  \n",
       "35          3142   177725           4           3  \n",
       "16          1799    71263           4           1  \n",
       "15          1053    36474           4           3  \n",
       "13          2214   116034           4           2  \n",
       "5           1539   127416           4           2  \n",
       "23          2972   121297           4           3  "
      ]
     },
     "execution_count": 14,
     "metadata": {},
     "output_type": "execute_result"
    }
   ],
   "source": [
    "lyrics.sort_values('cluster_cv')"
   ]
  },
  {
   "cell_type": "markdown",
   "metadata": {},
   "source": [
    "# How close are the clusters?\n",
    "Intercluster distance maps display an embedding of the cluster centers in 2 dimensions with the distance to other centers preserved. E.g. the closer to centers are in the visualization, the closer they are in the original feature space. The clusters are sized according to a scoring metric. By default, they are sized by membership, e.g. the number of instances that belong to each center. This gives a sense of the relative importance of clusters. Note however, that because two clusters overlap in the 2D space, it does not imply that they overlap in the original feature space.\n",
    "\n",
    "Source: https://www.scikit-yb.org/en/latest/api/cluster/icdm.html?highlight=intercluster"
   ]
  },
  {
   "cell_type": "markdown",
   "metadata": {},
   "source": [
    "#### Intercluster Distance Map based on CountVectorizer"
   ]
  },
  {
   "cell_type": "code",
   "execution_count": 15,
   "metadata": {},
   "outputs": [
    {
     "data": {
      "image/png": "[encoded data removed]",
      "text/plain": [
       "<Figure size 576x396 with 2 Axes>"
      ]
     },
     "metadata": {},
     "output_type": "display_data"
    }
   ],
   "source": [
    "# Instantiate the clustering model and visualizer\n",
    "visualizer = InterclusterDistance(km_cv)\n",
    "\n",
    "visualizer.fit(lyrics)        # Fit the data to the visualizer\n",
    "visualizer.show();        # Finalize and render the figure\n"
   ]
  },
  {
   "cell_type": "markdown",
   "metadata": {},
   "source": [
    "From here we can infer Drake (0) has lyrics that are vastly different from the rest of the artists."
   ]
  },
  {
   "cell_type": "markdown",
   "metadata": {},
   "source": [
    "Selena Gomez (3) also has lyrics that appear different from the rest of the artists."
   ]
  },
  {
   "cell_type": "markdown",
   "metadata": {},
   "source": [
    "#### Intercluster Distance Map based on TF-IDFVectorizer"
   ]
  },
  {
   "cell_type": "code",
   "execution_count": 16,
   "metadata": {},
   "outputs": [
    {
     "data": {
      "image/png": "[encoded data removed]",
      "text/plain": [
       "<Figure size 576x396 with 2 Axes>"
      ]
     },
     "metadata": {},
     "output_type": "display_data"
    }
   ],
   "source": [
    "# Instantiate the clustering model and visualizer\n",
    "visualizer = InterclusterDistance(km_tf)\n",
    "\n",
    "visualizer.fit(lyrics)        # Fit the data to the visualizer\n",
    "visualizer.show();        # Finalize and render the figure\n"
   ]
  },
  {
   "cell_type": "markdown",
   "metadata": {},
   "source": [
    "From here we can infer Simon & Garfunkal (4) and Chris Stapleton (0) have lyrics that are vastly different from the rest of the artists. I am skeptical about this cluster, so will choose to use CountVectorizer in further analysis"
   ]
  },
  {
   "cell_type": "code",
   "execution_count": 17,
   "metadata": {},
   "outputs": [
    {
     "data": {
      "text/html": [
       "<div>\n",
       "<style scoped>\n",
       "    .dataframe tbody tr th:only-of-type {\n",
       "        vertical-align: middle;\n",
       "    }\n",
       "\n",
       "    .dataframe tbody tr th {\n",
       "        vertical-align: top;\n",
       "    }\n",
       "\n",
       "    .dataframe thead th {\n",
       "        text-align: right;\n",
       "    }\n",
       "</style>\n",
       "<table border=\"1\" class=\"dataframe\">\n",
       "  <thead>\n",
       "    <tr style=\"text-align: right;\">\n",
       "      <th></th>\n",
       "      <th>artist_name</th>\n",
       "      <th>lyrics</th>\n",
       "      <th>billboard_genre</th>\n",
       "      <th>clean_lyrics</th>\n",
       "      <th>unique_words</th>\n",
       "      <th>length</th>\n",
       "      <th>cluster_cv</th>\n",
       "      <th>cluster_tf</th>\n",
       "    </tr>\n",
       "  </thead>\n",
       "  <tbody>\n",
       "    <tr>\n",
       "      <th>2</th>\n",
       "      <td>Simon &amp; Garfunkel</td>\n",
       "      <td>Hello darkness, my old friend\\nI've come to ta...</td>\n",
       "      <td>folk_americana</td>\n",
       "      <td>hello darkness my old friend i ve come to talk...</td>\n",
       "      <td>2616</td>\n",
       "      <td>122125</td>\n",
       "      <td>4</td>\n",
       "      <td>4</td>\n",
       "    </tr>\n",
       "  </tbody>\n",
       "</table>\n",
       "</div>"
      ],
      "text/plain": [
       "         artist_name                                             lyrics  \\\n",
       "2  Simon & Garfunkel  Hello darkness, my old friend\\nI've come to ta...   \n",
       "\n",
       "  billboard_genre                                       clean_lyrics  \\\n",
       "2  folk_americana  hello darkness my old friend i ve come to talk...   \n",
       "\n",
       "   unique_words  length  cluster_cv  cluster_tf  \n",
       "2          2616  122125           4           4  "
      ]
     },
     "execution_count": 17,
     "metadata": {},
     "output_type": "execute_result"
    }
   ],
   "source": [
    "lyrics[lyrics['cluster_tf'] == 4]"
   ]
  },
  {
   "cell_type": "code",
   "execution_count": 18,
   "metadata": {},
   "outputs": [
    {
     "data": {
      "text/html": [
       "<div>\n",
       "<style scoped>\n",
       "    .dataframe tbody tr th:only-of-type {\n",
       "        vertical-align: middle;\n",
       "    }\n",
       "\n",
       "    .dataframe tbody tr th {\n",
       "        vertical-align: top;\n",
       "    }\n",
       "\n",
       "    .dataframe thead th {\n",
       "        text-align: right;\n",
       "    }\n",
       "</style>\n",
       "<table border=\"1\" class=\"dataframe\">\n",
       "  <thead>\n",
       "    <tr style=\"text-align: right;\">\n",
       "      <th></th>\n",
       "      <th>artist_name</th>\n",
       "      <th>lyrics</th>\n",
       "      <th>billboard_genre</th>\n",
       "      <th>clean_lyrics</th>\n",
       "      <th>unique_words</th>\n",
       "      <th>length</th>\n",
       "      <th>cluster_cv</th>\n",
       "      <th>cluster_tf</th>\n",
       "    </tr>\n",
       "  </thead>\n",
       "  <tbody>\n",
       "    <tr>\n",
       "      <th>21</th>\n",
       "      <td>Chris Stapleton</td>\n",
       "      <td>Used to spend my nights out in a barroom\\nLiqu...</td>\n",
       "      <td>folk_americana</td>\n",
       "      <td>used to spend my nights out in a barroom liquo...</td>\n",
       "      <td>1202</td>\n",
       "      <td>45170</td>\n",
       "      <td>4</td>\n",
       "      <td>0</td>\n",
       "    </tr>\n",
       "  </tbody>\n",
       "</table>\n",
       "</div>"
      ],
      "text/plain": [
       "        artist_name                                             lyrics  \\\n",
       "21  Chris Stapleton  Used to spend my nights out in a barroom\\nLiqu...   \n",
       "\n",
       "   billboard_genre                                       clean_lyrics  \\\n",
       "21  folk_americana  used to spend my nights out in a barroom liquo...   \n",
       "\n",
       "    unique_words  length  cluster_cv  cluster_tf  \n",
       "21          1202   45170           4           0  "
      ]
     },
     "execution_count": 18,
     "metadata": {},
     "output_type": "execute_result"
    }
   ],
   "source": [
    "lyrics[lyrics['cluster_tf'] == 0]"
   ]
  },
  {
   "cell_type": "markdown",
   "metadata": {},
   "source": [
    "# How similar are the lyrics of the top artists for each genre?"
   ]
  },
  {
   "cell_type": "code",
   "execution_count": 20,
   "metadata": {},
   "outputs": [],
   "source": [
    "def plot_clusters_artists(genre, genre_title):\n",
    "    df = pd.DataFrame(lyrics[lyrics['billboard_genre'] == genre][['cluster_cv']].value_counts().reset_index())\n",
    "    \n",
    "    squarify.plot(sizes=df[0], label=df['cluster_cv'], alpha=.7,color=['lightcyan','lightgreen','yellow','grey','orange'])\n",
    "    plt.axis('off')\n",
    "    plt.title(f'Percentage of Clusters for {genre_title} Artists', size=16)\n",
    "    plt.show()\n",
    "\n",
    "    return None"
   ]
  },
  {
   "cell_type": "code",
   "execution_count": 21,
   "metadata": {},
   "outputs": [
    {
     "data": {
      "image/png": "[encoded data removed]",
      "text/plain": [
       "<Figure size 576x396 with 1 Axes>"
      ]
     },
     "metadata": {},
     "output_type": "display_data"
    },
    {
     "data": {
      "text/plain": [
       "<Figure size 576x396 with 0 Axes>"
      ]
     },
     "metadata": {},
     "output_type": "display_data"
    }
   ],
   "source": [
    "plot_clusters_artists('pop','Pop')\n",
    "plt.savefig('./imgs/pop_cluster.jpeg',bbox_inches='tight');"
   ]
  },
  {
   "cell_type": "code",
   "execution_count": 22,
   "metadata": {},
   "outputs": [
    {
     "data": {
      "image/png": "[encoded data removed]",
      "text/plain": [
       "<Figure size 576x396 with 1 Axes>"
      ]
     },
     "metadata": {},
     "output_type": "display_data"
    },
    {
     "data": {
      "text/plain": [
       "<Figure size 576x396 with 0 Axes>"
      ]
     },
     "metadata": {},
     "output_type": "display_data"
    }
   ],
   "source": [
    "plot_clusters_artists('folk_americana', 'Folk/Americana')\n",
    "plt.savefig('./imgs/folk_cluster.jpeg',bbox_inches='tight');"
   ]
  },
  {
   "cell_type": "markdown",
   "metadata": {},
   "source": [
    "### Look at Similarity using spaCy"
   ]
  },
  {
   "cell_type": "code",
   "execution_count": 111,
   "metadata": {},
   "outputs": [],
   "source": [
    "#create lists to store values\n",
    "comparisons = []\n",
    "scores = []\n",
    "\n",
    "#loop through and compare each combination of artist\n",
    "for i in range(0, lyrics.shape[0]):\n",
    "    for _ in range(0,lyrics.shape[0]):\n",
    "        comparisons.append(f\"{lyrics['artist_name'][i]} compared to {lyrics['artist_name'][_]}\")\n",
    "        scores.append((nlp(lyrics['clean_lyrics'][i])).similarity(nlp(lyrics['clean_lyrics'][_])))"
   ]
  },
  {
   "cell_type": "code",
   "execution_count": 113,
   "metadata": {},
   "outputs": [],
   "source": [
    "artist_similarity = pd.DataFrame({\n",
    "    'comparison': comparisons,\n",
    "    'scores': scores\n",
    "})"
   ]
  },
  {
   "cell_type": "code",
   "execution_count": 120,
   "metadata": {},
   "outputs": [
    {
     "data": {
      "text/html": [
       "<div>\n",
       "<style scoped>\n",
       "    .dataframe tbody tr th:only-of-type {\n",
       "        vertical-align: middle;\n",
       "    }\n",
       "\n",
       "    .dataframe tbody tr th {\n",
       "        vertical-align: top;\n",
       "    }\n",
       "\n",
       "    .dataframe thead th {\n",
       "        text-align: right;\n",
       "    }\n",
       "</style>\n",
       "<table border=\"1\" class=\"dataframe\">\n",
       "  <thead>\n",
       "    <tr style=\"text-align: right;\">\n",
       "      <th></th>\n",
       "      <th>comparison</th>\n",
       "      <th>scores</th>\n",
       "    </tr>\n",
       "  </thead>\n",
       "  <tbody>\n",
       "    <tr>\n",
       "      <th>935</th>\n",
       "      <td>Maroon 5 compared to Shawn Mendes</td>\n",
       "      <td>0.999329</td>\n",
       "    </tr>\n",
       "    <tr>\n",
       "      <th>395</th>\n",
       "      <td>Shawn Mendes compared to Maroon 5</td>\n",
       "      <td>0.999329</td>\n",
       "    </tr>\n",
       "    <tr>\n",
       "      <th>961</th>\n",
       "      <td>Maroon 5 compared to Jonas Brothers</td>\n",
       "      <td>0.999054</td>\n",
       "    </tr>\n",
       "    <tr>\n",
       "      <th>1357</th>\n",
       "      <td>Jonas Brothers compared to Maroon 5</td>\n",
       "      <td>0.999054</td>\n",
       "    </tr>\n",
       "    <tr>\n",
       "      <th>381</th>\n",
       "      <td>Shawn Mendes compared to The Chainsmokers</td>\n",
       "      <td>0.999037</td>\n",
       "    </tr>\n",
       "    <tr>\n",
       "      <th>417</th>\n",
       "      <td>The Chainsmokers compared to Shawn Mendes</td>\n",
       "      <td>0.999037</td>\n",
       "    </tr>\n",
       "  </tbody>\n",
       "</table>\n",
       "</div>"
      ],
      "text/plain": [
       "                                     comparison    scores\n",
       "935           Maroon 5 compared to Shawn Mendes  0.999329\n",
       "395           Shawn Mendes compared to Maroon 5  0.999329\n",
       "961         Maroon 5 compared to Jonas Brothers  0.999054\n",
       "1357        Jonas Brothers compared to Maroon 5  0.999054\n",
       "381   Shawn Mendes compared to The Chainsmokers  0.999037\n",
       "417   The Chainsmokers compared to Shawn Mendes  0.999037"
      ]
     },
     "execution_count": 120,
     "metadata": {},
     "output_type": "execute_result"
    }
   ],
   "source": [
    "# Top 3 Most Similar Artists\n",
    "artist_similarity[artist_similarity['scores'] < 1.0].sort_values('scores', ascending=False).head(6)"
   ]
  },
  {
   "cell_type": "code",
   "execution_count": 119,
   "metadata": {},
   "outputs": [
    {
     "data": {
      "text/html": [
       "<div>\n",
       "<style scoped>\n",
       "    .dataframe tbody tr th:only-of-type {\n",
       "        vertical-align: middle;\n",
       "    }\n",
       "\n",
       "    .dataframe tbody tr th {\n",
       "        vertical-align: top;\n",
       "    }\n",
       "\n",
       "    .dataframe thead th {\n",
       "        text-align: right;\n",
       "    }\n",
       "</style>\n",
       "<table border=\"1\" class=\"dataframe\">\n",
       "  <thead>\n",
       "    <tr style=\"text-align: right;\">\n",
       "      <th></th>\n",
       "      <th>comparison</th>\n",
       "      <th>scores</th>\n",
       "    </tr>\n",
       "  </thead>\n",
       "  <tbody>\n",
       "    <tr>\n",
       "      <th>525</th>\n",
       "      <td>Post Malone compared to Neil Young</td>\n",
       "      <td>0.975826</td>\n",
       "    </tr>\n",
       "    <tr>\n",
       "      <th>273</th>\n",
       "      <td>Neil Young compared to Post Malone</td>\n",
       "      <td>0.975826</td>\n",
       "    </tr>\n",
       "    <tr>\n",
       "      <th>282</th>\n",
       "      <td>Neil Young compared to Lizzo</td>\n",
       "      <td>0.979234</td>\n",
       "    </tr>\n",
       "    <tr>\n",
       "      <th>858</th>\n",
       "      <td>Lizzo compared to Neil Young</td>\n",
       "      <td>0.979234</td>\n",
       "    </tr>\n",
       "    <tr>\n",
       "      <th>125</th>\n",
       "      <td>Mumford &amp; Sons compared to Post Malone</td>\n",
       "      <td>0.979630</td>\n",
       "    </tr>\n",
       "    <tr>\n",
       "      <th>521</th>\n",
       "      <td>Post Malone compared to Mumford &amp; Sons</td>\n",
       "      <td>0.979630</td>\n",
       "    </tr>\n",
       "  </tbody>\n",
       "</table>\n",
       "</div>"
      ],
      "text/plain": [
       "                                 comparison    scores\n",
       "525      Post Malone compared to Neil Young  0.975826\n",
       "273      Neil Young compared to Post Malone  0.975826\n",
       "282            Neil Young compared to Lizzo  0.979234\n",
       "858            Lizzo compared to Neil Young  0.979234\n",
       "125  Mumford & Sons compared to Post Malone  0.979630\n",
       "521  Post Malone compared to Mumford & Sons  0.979630"
      ]
     },
     "execution_count": 119,
     "metadata": {},
     "output_type": "execute_result"
    }
   ],
   "source": [
    "# Top 3 Most Non-Similar Artists\n",
    "artist_similarity[artist_similarity['scores'] < 1.0].sort_values('scores', ascending=True).head(6)"
   ]
  },
  {
   "cell_type": "markdown",
   "metadata": {},
   "source": [
    "# Cluster John Mayer's songs"
   ]
  },
  {
   "cell_type": "code",
   "execution_count": 38,
   "metadata": {},
   "outputs": [],
   "source": [
    "songs = pd.read_csv('./all_songs.csv')"
   ]
  },
  {
   "cell_type": "code",
   "execution_count": 39,
   "metadata": {},
   "outputs": [
    {
     "data": {
      "text/html": [
       "<div>\n",
       "<style scoped>\n",
       "    .dataframe tbody tr th:only-of-type {\n",
       "        vertical-align: middle;\n",
       "    }\n",
       "\n",
       "    .dataframe tbody tr th {\n",
       "        vertical-align: top;\n",
       "    }\n",
       "\n",
       "    .dataframe thead th {\n",
       "        text-align: right;\n",
       "    }\n",
       "</style>\n",
       "<table border=\"1\" class=\"dataframe\">\n",
       "  <thead>\n",
       "    <tr style=\"text-align: right;\">\n",
       "      <th></th>\n",
       "      <th>artist_name</th>\n",
       "      <th>image_url</th>\n",
       "      <th>url</th>\n",
       "      <th>title</th>\n",
       "      <th>lyrics</th>\n",
       "      <th>spotify_url</th>\n",
       "      <th>billboard_genre</th>\n",
       "      <th>clean_lyrics</th>\n",
       "    </tr>\n",
       "  </thead>\n",
       "  <tbody>\n",
       "    <tr>\n",
       "      <th>2730</th>\n",
       "      <td>John Mayer</td>\n",
       "      <td>https://images.genius.com/4c443bf06bf6b696ad4f...</td>\n",
       "      <td>https://genius.com/artists/John-mayer</td>\n",
       "      <td>New Light</td>\n",
       "      <td>Ah, ah, ah\\nAh...\\n\\nI'm the boy in your other...</td>\n",
       "      <td>https://open.spotify.com/track/3bH4HzoZZFq8UpZ...</td>\n",
       "      <td>folk_americana</td>\n",
       "      <td>ah ah ah ah i m the boy in your other phone li...</td>\n",
       "    </tr>\n",
       "    <tr>\n",
       "      <th>2731</th>\n",
       "      <td>John Mayer</td>\n",
       "      <td>https://images.genius.com/4c443bf06bf6b696ad4f...</td>\n",
       "      <td>https://genius.com/artists/John-mayer</td>\n",
       "      <td>Gravity</td>\n",
       "      <td>Gravity is working against me\\nAnd gravity wan...</td>\n",
       "      <td>https://open.spotify.com/track/52K3qt1rCYf3Ciu...</td>\n",
       "      <td>folk_americana</td>\n",
       "      <td>gravity is working against me and gravity want...</td>\n",
       "    </tr>\n",
       "    <tr>\n",
       "      <th>2732</th>\n",
       "      <td>John Mayer</td>\n",
       "      <td>https://images.genius.com/4c443bf06bf6b696ad4f...</td>\n",
       "      <td>https://genius.com/artists/John-mayer</td>\n",
       "      <td>Slow Dancing in a Burning Room</td>\n",
       "      <td>It's not a silly little moment\\nIt's not the s...</td>\n",
       "      <td>https://open.spotify.com/track/3f8Uygfz3CIpUCo...</td>\n",
       "      <td>folk_americana</td>\n",
       "      <td>it s not a silly little moment it s not the st...</td>\n",
       "    </tr>\n",
       "    <tr>\n",
       "      <th>2733</th>\n",
       "      <td>John Mayer</td>\n",
       "      <td>https://images.genius.com/4c443bf06bf6b696ad4f...</td>\n",
       "      <td>https://genius.com/artists/John-mayer</td>\n",
       "      <td>Free Fallin’</td>\n",
       "      <td>She's a good girl, loves her mama\\nLoves Jesus...</td>\n",
       "      <td>https://open.spotify.com/track/4LloVtxNZpeh7q7...</td>\n",
       "      <td>folk_americana</td>\n",
       "      <td>she s a good girl loves her mama loves jesus a...</td>\n",
       "    </tr>\n",
       "    <tr>\n",
       "      <th>2734</th>\n",
       "      <td>John Mayer</td>\n",
       "      <td>https://images.genius.com/4c443bf06bf6b696ad4f...</td>\n",
       "      <td>https://genius.com/artists/John-mayer</td>\n",
       "      <td>In the Blood</td>\n",
       "      <td>How much of my mother has my mother left in me...</td>\n",
       "      <td>https://open.spotify.com/track/77Y57qRJBvkGCUw...</td>\n",
       "      <td>folk_americana</td>\n",
       "      <td>how much of my mother has my mother left in me...</td>\n",
       "    </tr>\n",
       "  </tbody>\n",
       "</table>\n",
       "</div>"
      ],
      "text/plain": [
       "     artist_name                                          image_url  \\\n",
       "2730  John Mayer  https://images.genius.com/4c443bf06bf6b696ad4f...   \n",
       "2731  John Mayer  https://images.genius.com/4c443bf06bf6b696ad4f...   \n",
       "2732  John Mayer  https://images.genius.com/4c443bf06bf6b696ad4f...   \n",
       "2733  John Mayer  https://images.genius.com/4c443bf06bf6b696ad4f...   \n",
       "2734  John Mayer  https://images.genius.com/4c443bf06bf6b696ad4f...   \n",
       "\n",
       "                                        url                           title  \\\n",
       "2730  https://genius.com/artists/John-mayer                       New Light   \n",
       "2731  https://genius.com/artists/John-mayer                         Gravity   \n",
       "2732  https://genius.com/artists/John-mayer  Slow Dancing in a Burning Room   \n",
       "2733  https://genius.com/artists/John-mayer                    Free Fallin’   \n",
       "2734  https://genius.com/artists/John-mayer                    In the Blood   \n",
       "\n",
       "                                                 lyrics  \\\n",
       "2730  Ah, ah, ah\\nAh...\\n\\nI'm the boy in your other...   \n",
       "2731  Gravity is working against me\\nAnd gravity wan...   \n",
       "2732  It's not a silly little moment\\nIt's not the s...   \n",
       "2733  She's a good girl, loves her mama\\nLoves Jesus...   \n",
       "2734  How much of my mother has my mother left in me...   \n",
       "\n",
       "                                            spotify_url billboard_genre  \\\n",
       "2730  https://open.spotify.com/track/3bH4HzoZZFq8UpZ...  folk_americana   \n",
       "2731  https://open.spotify.com/track/52K3qt1rCYf3Ciu...  folk_americana   \n",
       "2732  https://open.spotify.com/track/3f8Uygfz3CIpUCo...  folk_americana   \n",
       "2733  https://open.spotify.com/track/4LloVtxNZpeh7q7...  folk_americana   \n",
       "2734  https://open.spotify.com/track/77Y57qRJBvkGCUw...  folk_americana   \n",
       "\n",
       "                                           clean_lyrics  \n",
       "2730  ah ah ah ah i m the boy in your other phone li...  \n",
       "2731  gravity is working against me and gravity want...  \n",
       "2732  it s not a silly little moment it s not the st...  \n",
       "2733  she s a good girl loves her mama loves jesus a...  \n",
       "2734  how much of my mother has my mother left in me...  "
      ]
     },
     "execution_count": 39,
     "metadata": {},
     "output_type": "execute_result"
    }
   ],
   "source": [
    "#create a dataframe of just John Mayer songs\n",
    "john_mayer = songs[songs['artist_name'] == 'John Mayer']\n",
    "john_mayer.head()"
   ]
  },
  {
   "cell_type": "code",
   "execution_count": 58,
   "metadata": {},
   "outputs": [],
   "source": [
    "#Create new column in df called unique_words\n",
    "john_mayer.loc[:, ('unique_words')] = unique_words(john_mayer)"
   ]
  },
  {
   "cell_type": "code",
   "execution_count": 126,
   "metadata": {},
   "outputs": [],
   "source": [
    "#get char count\n",
    "john_mayer.loc[:, 'length'] = [len(lyric) for lyric in john_mayer['clean_lyrics']]"
   ]
  },
  {
   "cell_type": "code",
   "execution_count": 67,
   "metadata": {},
   "outputs": [],
   "source": [
    "#instantiate and fit \n",
    "cv_jm = CountVectorizer(stop_words='english', ngram_range=(1,3))\n",
    "lyrics_vec_jm = cv_jm.fit_transform(john_mayer['clean_lyrics'])"
   ]
  },
  {
   "cell_type": "code",
   "execution_count": 68,
   "metadata": {},
   "outputs": [
    {
     "data": {
      "text/plain": [
       "KMeans(n_clusters=3, random_state=42)"
      ]
     },
     "execution_count": 68,
     "metadata": {},
     "output_type": "execute_result"
    }
   ],
   "source": [
    "#intstantiate model\n",
    "km_jm = KMeans(n_clusters=3, random_state=42)\n",
    "km_jm.fit(lyrics_vec_jm)\n"
   ]
  },
  {
   "cell_type": "code",
   "execution_count": 69,
   "metadata": {},
   "outputs": [
    {
     "data": {
      "text/plain": [
       "0.7083572300984751"
      ]
     },
     "execution_count": 69,
     "metadata": {},
     "output_type": "execute_result"
    }
   ],
   "source": [
    "#Silhouette_score\n",
    "silhouette_score(lyrics_vec_jm, km_jm.labels_)"
   ]
  },
  {
   "cell_type": "code",
   "execution_count": 71,
   "metadata": {},
   "outputs": [],
   "source": [
    "john_mayer.loc[:, ('cluster')] = km_jm.labels_"
   ]
  },
  {
   "cell_type": "code",
   "execution_count": 72,
   "metadata": {},
   "outputs": [
    {
     "data": {
      "image/png": "[encoded data removed]",
      "text/plain": [
       "<Figure size 576x396 with 1 Axes>"
      ]
     },
     "metadata": {},
     "output_type": "display_data"
    }
   ],
   "source": [
    "df_john_mayer = pd.DataFrame(john_mayer[['cluster']].value_counts(normalize=True).reset_index())\n",
    "\n",
    "squarify.plot(sizes=df_john_mayer[0], label=df_john_mayer['cluster'], alpha=.7, color=['lightcyan','lightgreen','grey'])\n",
    "plt.axis('off')\n",
    "plt.title(f'Percentage of Clusters for John Mayer Songs', size=16)\n",
    "plt.savefig('./imgs/john_mayer_cluster.jpeg',bbox_inches='tight');"
   ]
  },
  {
   "cell_type": "code",
   "execution_count": 74,
   "metadata": {},
   "outputs": [
    {
     "data": {
      "image/png": "[encoded data removed]",
      "text/plain": [
       "<Figure size 576x396 with 2 Axes>"
      ]
     },
     "metadata": {},
     "output_type": "display_data"
    }
   ],
   "source": [
    "# Instantiate the clustering model and visualizer\n",
    "visualizer = InterclusterDistance(km_jm)\n",
    "\n",
    "visualizer.fit(john_mayer)        # Fit the data to the visualizer\n",
    "visualizer.show();        # Finalize and render the figure\n"
   ]
  },
  {
   "cell_type": "code",
   "execution_count": 75,
   "metadata": {},
   "outputs": [
    {
     "data": {
      "text/html": [
       "<div>\n",
       "<style scoped>\n",
       "    .dataframe tbody tr th:only-of-type {\n",
       "        vertical-align: middle;\n",
       "    }\n",
       "\n",
       "    .dataframe tbody tr th {\n",
       "        vertical-align: top;\n",
       "    }\n",
       "\n",
       "    .dataframe thead th {\n",
       "        text-align: right;\n",
       "    }\n",
       "</style>\n",
       "<table border=\"1\" class=\"dataframe\">\n",
       "  <thead>\n",
       "    <tr style=\"text-align: right;\">\n",
       "      <th></th>\n",
       "      <th>artist_name</th>\n",
       "      <th>image_url</th>\n",
       "      <th>url</th>\n",
       "      <th>title</th>\n",
       "      <th>lyrics</th>\n",
       "      <th>spotify_url</th>\n",
       "      <th>billboard_genre</th>\n",
       "      <th>clean_lyrics</th>\n",
       "      <th>cluster</th>\n",
       "      <th>unique_words</th>\n",
       "      <th>length</th>\n",
       "    </tr>\n",
       "  </thead>\n",
       "  <tbody>\n",
       "    <tr>\n",
       "      <th>2767</th>\n",
       "      <td>John Mayer</td>\n",
       "      <td>https://images.genius.com/4c443bf06bf6b696ad4f...</td>\n",
       "      <td>https://genius.com/artists/John-mayer</td>\n",
       "      <td>Say</td>\n",
       "      <td>Take all of your wasted honor\\nEvery little pa...</td>\n",
       "      <td>NaN</td>\n",
       "      <td>folk_americana</td>\n",
       "      <td>take all of your wasted honor every little pas...</td>\n",
       "      <td>0</td>\n",
       "      <td>78</td>\n",
       "      <td>1549</td>\n",
       "    </tr>\n",
       "  </tbody>\n",
       "</table>\n",
       "</div>"
      ],
      "text/plain": [
       "     artist_name                                          image_url  \\\n",
       "2767  John Mayer  https://images.genius.com/4c443bf06bf6b696ad4f...   \n",
       "\n",
       "                                        url title  \\\n",
       "2767  https://genius.com/artists/John-mayer   Say   \n",
       "\n",
       "                                                 lyrics spotify_url  \\\n",
       "2767  Take all of your wasted honor\\nEvery little pa...         NaN   \n",
       "\n",
       "     billboard_genre                                       clean_lyrics  \\\n",
       "2767  folk_americana  take all of your wasted honor every little pas...   \n",
       "\n",
       "      cluster  unique_words  length  \n",
       "2767        0            78    1549  "
      ]
     },
     "execution_count": 75,
     "metadata": {},
     "output_type": "execute_result"
    }
   ],
   "source": [
    "#what is cluster 1?\n",
    "john_mayer[john_mayer['cluster'] == 0]"
   ]
  },
  {
   "cell_type": "code",
   "execution_count": 76,
   "metadata": {},
   "outputs": [
    {
     "data": {
      "text/html": [
       "<div>\n",
       "<style scoped>\n",
       "    .dataframe tbody tr th:only-of-type {\n",
       "        vertical-align: middle;\n",
       "    }\n",
       "\n",
       "    .dataframe tbody tr th {\n",
       "        vertical-align: top;\n",
       "    }\n",
       "\n",
       "    .dataframe thead th {\n",
       "        text-align: right;\n",
       "    }\n",
       "</style>\n",
       "<table border=\"1\" class=\"dataframe\">\n",
       "  <thead>\n",
       "    <tr style=\"text-align: right;\">\n",
       "      <th></th>\n",
       "      <th>artist_name</th>\n",
       "      <th>image_url</th>\n",
       "      <th>url</th>\n",
       "      <th>title</th>\n",
       "      <th>lyrics</th>\n",
       "      <th>spotify_url</th>\n",
       "      <th>billboard_genre</th>\n",
       "      <th>clean_lyrics</th>\n",
       "      <th>cluster</th>\n",
       "      <th>unique_words</th>\n",
       "      <th>length</th>\n",
       "    </tr>\n",
       "  </thead>\n",
       "  <tbody>\n",
       "    <tr>\n",
       "      <th>2855</th>\n",
       "      <td>John Mayer</td>\n",
       "      <td>https://images.genius.com/4c443bf06bf6b696ad4f...</td>\n",
       "      <td>https://genius.com/artists/John-mayer</td>\n",
       "      <td>Wanna Be Startin’ Somethin’</td>\n",
       "      <td>I said you want to be starting something\\nYou ...</td>\n",
       "      <td>NaN</td>\n",
       "      <td>folk_americana</td>\n",
       "      <td>i said you want to be starting something you g...</td>\n",
       "      <td>1</td>\n",
       "      <td>142</td>\n",
       "      <td>4185</td>\n",
       "    </tr>\n",
       "  </tbody>\n",
       "</table>\n",
       "</div>"
      ],
      "text/plain": [
       "     artist_name                                          image_url  \\\n",
       "2855  John Mayer  https://images.genius.com/4c443bf06bf6b696ad4f...   \n",
       "\n",
       "                                        url                        title  \\\n",
       "2855  https://genius.com/artists/John-mayer  Wanna Be Startin’ Somethin’   \n",
       "\n",
       "                                                 lyrics spotify_url  \\\n",
       "2855  I said you want to be starting something\\nYou ...         NaN   \n",
       "\n",
       "     billboard_genre                                       clean_lyrics  \\\n",
       "2855  folk_americana  i said you want to be starting something you g...   \n",
       "\n",
       "      cluster  unique_words  length  \n",
       "2855        1           142    4185  "
      ]
     },
     "execution_count": 76,
     "metadata": {},
     "output_type": "execute_result"
    }
   ],
   "source": [
    "#what is cluster 2?\n",
    "john_mayer[john_mayer['cluster'] == 1]"
   ]
  },
  {
   "cell_type": "markdown",
   "metadata": {},
   "source": [
    "It would make sense that \"Wanna Be Startin' Somethin'\" is in this list because it is not an original John Mayer song. \"Say\" repeats the same lyrics for the whole song, which is why I believe this ended up in it's own cluster."
   ]
  }
 ],
 "metadata": {
  "kernelspec": {
   "display_name": "Python [conda env:personal] *",
   "language": "python",
   "name": "conda-env-personal-py"
  },
  "language_info": {
   "codemirror_mode": {
    "name": "ipython",
    "version": 3
   },
   "file_extension": ".py",
   "mimetype": "text/x-python",
   "name": "python",
   "nbconvert_exporter": "python",
   "pygments_lexer": "ipython3",
   "version": "3.7.7"
  }
 },
 "nbformat": 4,
 "nbformat_minor": 4
}
